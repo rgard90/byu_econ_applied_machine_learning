{
 "cells": [
  {
   "cell_type": "code",
   "execution_count": 128,
   "metadata": {
    "collapsed": true
   },
   "outputs": [],
   "source": [
    "#import basic libraries\n",
    "import numpy as np\n",
    "import pandas as pd\n",
    "import matplotlib.pyplot as plt\n",
    "%matplotlib inline\n",
    "import seaborn as sns\n",
    "\n",
    "#import machine learning libraries\n",
    "from sklearn.linear_model import SGDRegressor\n",
    "from sklearn.metrics import mean_squared_error\n",
    "from sklearn.preprocessing import StandardScaler\n",
    "from sklearn.preprocessing import PolynomialFeatures\n",
    "from sklearn.utils import resample\n",
    "from sklearn.model_selection import train_test_split\n",
    "from sklearn.model_selection import RandomizedSearchCV\n",
    "from sklearn.linear_model import SGDRegressor\n",
    "from sklearn.linear_model import ElasticNetCV\n",
    "\n",
    "# get rid of depreciation warnings\n",
    "import warnings\n",
    "warnings.filterwarnings(\"ignore\",category=DeprecationWarning) "
   ]
  },
  {
   "cell_type": "code",
   "execution_count": 129,
   "metadata": {
    "collapsed": true
   },
   "outputs": [],
   "source": [
    "#brings in the csv\n",
    "data = pd.read_csv(\"/Users/jacobbills/Desktop/Economics/Twitter_sentiment_DJIA30/Combined_stocks.csv\") "
   ]
  },
  {
   "cell_type": "markdown",
   "metadata": {},
   "source": [
    "### Let's make some percents for the different sentiment scores \n",
    "#### (ie. percent of total tweets that were positive/negative/neutral)\n"
   ]
  },
  {
   "cell_type": "code",
   "execution_count": 130,
   "metadata": {},
   "outputs": [
    {
     "name": "stdout",
     "output_type": "stream",
     "text": [
      "<class 'pandas.core.frame.DataFrame'>\n",
      "RangeIndex: 14182 entries, 0 to 14181\n",
      "Data columns (total 56 columns):\n",
      "Unnamed: 0    14182 non-null int64\n",
      "Date          14182 non-null object\n",
      "HIGH          14182 non-null float64\n",
      "CLOSE         14182 non-null float64\n",
      "OPEN          14182 non-null float64\n",
      "LOW           14182 non-null float64\n",
      "NUM_NEG       14182 non-null int64\n",
      "NUM_NEU       14182 non-null int64\n",
      "NUM_POS       14182 non-null int64\n",
      "TW            14182 non-null int64\n",
      "weekend       14182 non-null int64\n",
      "NUM_NEG1      14182 non-null int64\n",
      "NUM_NEG2      14182 non-null int64\n",
      "NUM_NEG3      14182 non-null int64\n",
      "NUM_NEU1      14182 non-null int64\n",
      "NUM_NEU2      14182 non-null int64\n",
      "NUM_NEU3      14182 non-null int64\n",
      "NUM_POS1      14182 non-null int64\n",
      "NUM_POS2      14182 non-null int64\n",
      "NUM_POS3      14182 non-null int64\n",
      "TW1           14182 non-null int64\n",
      "TW2           14182 non-null int64\n",
      "TW3           14182 non-null int64\n",
      "CLOSE1        14182 non-null float64\n",
      "CLOSE2        14182 non-null float64\n",
      "CLOSE3        14182 non-null float64\n",
      "AXP           14182 non-null int64\n",
      "BA            14182 non-null int64\n",
      "CAT           14182 non-null int64\n",
      "CSCO          14182 non-null int64\n",
      "CVX           14182 non-null int64\n",
      "DD            14182 non-null int64\n",
      "DIS           14182 non-null int64\n",
      "GE            14182 non-null int64\n",
      "GS            14182 non-null int64\n",
      "HD            14182 non-null int64\n",
      "IBM           14182 non-null int64\n",
      "INTC          14182 non-null int64\n",
      "JNJ           14182 non-null int64\n",
      "JPM           14182 non-null int64\n",
      "KO            14182 non-null int64\n",
      "MCD           14182 non-null int64\n",
      "MMM           14182 non-null int64\n",
      "MRK           14182 non-null int64\n",
      "MSFT          14182 non-null int64\n",
      "NKE           14182 non-null int64\n",
      "PFE           14182 non-null int64\n",
      "PG            14182 non-null int64\n",
      "T             14182 non-null int64\n",
      "TRV           14182 non-null int64\n",
      "UNH           14182 non-null int64\n",
      "UTX           14182 non-null int64\n",
      "V             14182 non-null int64\n",
      "VZ            14182 non-null int64\n",
      "WMT           14182 non-null int64\n",
      "XOM           14182 non-null int64\n",
      "dtypes: float64(7), int64(48), object(1)\n",
      "memory usage: 6.1+ MB\n"
     ]
    }
   ],
   "source": [
    "#checking what we have\n",
    "data.info() "
   ]
  },
  {
   "cell_type": "code",
   "execution_count": 131,
   "metadata": {
    "collapsed": true
   },
   "outputs": [],
   "source": [
    "# create percentages\n",
    "sentiments = ['NUM_NEG', 'NUM_NEG1', 'NUM_NEG2', 'NUM_NEG3','NUM_NEU','NUM_NEU1','NUM_NEU2','NUM_NEU3','NUM_POS',\n",
    "              'NUM_POS1','NUM_POS2', 'NUM_POS3']\n",
    "for e in sentiments:\n",
    "    if e.endswith(\"1\"):\n",
    "        data[e+\"_PER\"] = data[e]/data['TW1']\n",
    "    elif e.endswith(\"2\"):\n",
    "        data[e+\"_PER\"] = data[e]/data['TW2']\n",
    "    elif e.endswith(\"3\"):\n",
    "        data[e+\"_PER\"] = data[e]/data['TW3']\n",
    "    else:\n",
    "        data[e+\"_PER\"] = data[e]/data['TW']"
   ]
  },
  {
   "cell_type": "code",
   "execution_count": 132,
   "metadata": {
    "collapsed": true
   },
   "outputs": [],
   "source": [
    "# Create Dummies for each day\n",
    "data['Date']= pd.to_datetime(data['Date'])\n",
    "data['day'] = data['Date'].dt.day_name()"
   ]
  },
  {
   "cell_type": "code",
   "execution_count": 133,
   "metadata": {},
   "outputs": [
    {
     "data": {
      "text/html": [
       "<div>\n",
       "<style scoped>\n",
       "    .dataframe tbody tr th:only-of-type {\n",
       "        vertical-align: middle;\n",
       "    }\n",
       "\n",
       "    .dataframe tbody tr th {\n",
       "        vertical-align: top;\n",
       "    }\n",
       "\n",
       "    .dataframe thead th {\n",
       "        text-align: right;\n",
       "    }\n",
       "</style>\n",
       "<table border=\"1\" class=\"dataframe\">\n",
       "  <thead>\n",
       "    <tr style=\"text-align: right;\">\n",
       "      <th></th>\n",
       "      <th>Unnamed: 0</th>\n",
       "      <th>Date</th>\n",
       "      <th>HIGH</th>\n",
       "      <th>CLOSE</th>\n",
       "      <th>OPEN</th>\n",
       "      <th>LOW</th>\n",
       "      <th>NUM_NEG</th>\n",
       "      <th>NUM_NEU</th>\n",
       "      <th>NUM_POS</th>\n",
       "      <th>TW</th>\n",
       "      <th>...</th>\n",
       "      <th>NUM_POS1_PER</th>\n",
       "      <th>NUM_POS2_PER</th>\n",
       "      <th>NUM_POS3_PER</th>\n",
       "      <th>day_Friday</th>\n",
       "      <th>day_Monday</th>\n",
       "      <th>day_Saturday</th>\n",
       "      <th>day_Sunday</th>\n",
       "      <th>day_Thursday</th>\n",
       "      <th>day_Tuesday</th>\n",
       "      <th>day_Wednesday</th>\n",
       "    </tr>\n",
       "  </thead>\n",
       "  <tbody>\n",
       "    <tr>\n",
       "      <th>0</th>\n",
       "      <td>0</td>\n",
       "      <td>2013-06-04</td>\n",
       "      <td>77.24</td>\n",
       "      <td>76.02</td>\n",
       "      <td>76.50</td>\n",
       "      <td>75.96</td>\n",
       "      <td>2</td>\n",
       "      <td>12</td>\n",
       "      <td>6</td>\n",
       "      <td>20</td>\n",
       "      <td>...</td>\n",
       "      <td>0.090909</td>\n",
       "      <td>0.000000</td>\n",
       "      <td>0.000000</td>\n",
       "      <td>0</td>\n",
       "      <td>0</td>\n",
       "      <td>0</td>\n",
       "      <td>0</td>\n",
       "      <td>0</td>\n",
       "      <td>1</td>\n",
       "      <td>0</td>\n",
       "    </tr>\n",
       "    <tr>\n",
       "      <th>1</th>\n",
       "      <td>1</td>\n",
       "      <td>2013-06-05</td>\n",
       "      <td>76.28</td>\n",
       "      <td>74.79</td>\n",
       "      <td>76.04</td>\n",
       "      <td>74.64</td>\n",
       "      <td>0</td>\n",
       "      <td>4</td>\n",
       "      <td>2</td>\n",
       "      <td>6</td>\n",
       "      <td>...</td>\n",
       "      <td>0.300000</td>\n",
       "      <td>0.090909</td>\n",
       "      <td>0.000000</td>\n",
       "      <td>0</td>\n",
       "      <td>0</td>\n",
       "      <td>0</td>\n",
       "      <td>0</td>\n",
       "      <td>0</td>\n",
       "      <td>0</td>\n",
       "      <td>1</td>\n",
       "    </tr>\n",
       "    <tr>\n",
       "      <th>2</th>\n",
       "      <td>2</td>\n",
       "      <td>2013-06-06</td>\n",
       "      <td>76.25</td>\n",
       "      <td>76.24</td>\n",
       "      <td>74.75</td>\n",
       "      <td>74.64</td>\n",
       "      <td>1</td>\n",
       "      <td>9</td>\n",
       "      <td>0</td>\n",
       "      <td>10</td>\n",
       "      <td>...</td>\n",
       "      <td>0.333333</td>\n",
       "      <td>0.300000</td>\n",
       "      <td>0.090909</td>\n",
       "      <td>0</td>\n",
       "      <td>0</td>\n",
       "      <td>0</td>\n",
       "      <td>0</td>\n",
       "      <td>1</td>\n",
       "      <td>0</td>\n",
       "      <td>0</td>\n",
       "    </tr>\n",
       "    <tr>\n",
       "      <th>3</th>\n",
       "      <td>3</td>\n",
       "      <td>2013-06-07</td>\n",
       "      <td>78.12</td>\n",
       "      <td>78.03</td>\n",
       "      <td>76.68</td>\n",
       "      <td>76.45</td>\n",
       "      <td>2</td>\n",
       "      <td>4</td>\n",
       "      <td>11</td>\n",
       "      <td>17</td>\n",
       "      <td>...</td>\n",
       "      <td>0.000000</td>\n",
       "      <td>0.333333</td>\n",
       "      <td>0.300000</td>\n",
       "      <td>1</td>\n",
       "      <td>0</td>\n",
       "      <td>0</td>\n",
       "      <td>0</td>\n",
       "      <td>0</td>\n",
       "      <td>0</td>\n",
       "      <td>0</td>\n",
       "    </tr>\n",
       "    <tr>\n",
       "      <th>4</th>\n",
       "      <td>4</td>\n",
       "      <td>2013-06-08</td>\n",
       "      <td>78.12</td>\n",
       "      <td>78.03</td>\n",
       "      <td>76.68</td>\n",
       "      <td>76.45</td>\n",
       "      <td>0</td>\n",
       "      <td>3</td>\n",
       "      <td>3</td>\n",
       "      <td>6</td>\n",
       "      <td>...</td>\n",
       "      <td>0.647059</td>\n",
       "      <td>0.000000</td>\n",
       "      <td>0.333333</td>\n",
       "      <td>0</td>\n",
       "      <td>0</td>\n",
       "      <td>1</td>\n",
       "      <td>0</td>\n",
       "      <td>0</td>\n",
       "      <td>0</td>\n",
       "      <td>0</td>\n",
       "    </tr>\n",
       "  </tbody>\n",
       "</table>\n",
       "<p>5 rows × 75 columns</p>\n",
       "</div>"
      ],
      "text/plain": [
       "   Unnamed: 0       Date   HIGH  CLOSE   OPEN    LOW  NUM_NEG  NUM_NEU  \\\n",
       "0           0 2013-06-04  77.24  76.02  76.50  75.96        2       12   \n",
       "1           1 2013-06-05  76.28  74.79  76.04  74.64        0        4   \n",
       "2           2 2013-06-06  76.25  76.24  74.75  74.64        1        9   \n",
       "3           3 2013-06-07  78.12  78.03  76.68  76.45        2        4   \n",
       "4           4 2013-06-08  78.12  78.03  76.68  76.45        0        3   \n",
       "\n",
       "   NUM_POS  TW      ...        NUM_POS1_PER  NUM_POS2_PER  NUM_POS3_PER  \\\n",
       "0        6  20      ...            0.090909      0.000000      0.000000   \n",
       "1        2   6      ...            0.300000      0.090909      0.000000   \n",
       "2        0  10      ...            0.333333      0.300000      0.090909   \n",
       "3       11  17      ...            0.000000      0.333333      0.300000   \n",
       "4        3   6      ...            0.647059      0.000000      0.333333   \n",
       "\n",
       "   day_Friday  day_Monday  day_Saturday  day_Sunday  day_Thursday  \\\n",
       "0           0           0             0           0             0   \n",
       "1           0           0             0           0             0   \n",
       "2           0           0             0           0             1   \n",
       "3           1           0             0           0             0   \n",
       "4           0           0             1           0             0   \n",
       "\n",
       "   day_Tuesday  day_Wednesday  \n",
       "0            1              0  \n",
       "1            0              1  \n",
       "2            0              0  \n",
       "3            0              0  \n",
       "4            0              0  \n",
       "\n",
       "[5 rows x 75 columns]"
      ]
     },
     "execution_count": 133,
     "metadata": {},
     "output_type": "execute_result"
    }
   ],
   "source": [
    "data =pd.get_dummies(data, columns=['day'])\n",
    "data.head()"
   ]
  },
  {
   "cell_type": "code",
   "execution_count": 134,
   "metadata": {
    "scrolled": true
   },
   "outputs": [
    {
     "data": {
      "text/plain": [
       "Index(['NUM_NEG_PER', 'NUM_NEG1_PER', 'NUM_NEG2_PER', 'NUM_NEG3_PER',\n",
       "       'NUM_NEU_PER', 'NUM_NEU1_PER', 'NUM_NEU2_PER', 'NUM_NEU3_PER',\n",
       "       'NUM_POS_PER', 'NUM_POS1_PER', 'NUM_POS2_PER', 'NUM_POS3_PER'],\n",
       "      dtype='object')"
      ]
     },
     "execution_count": 134,
     "metadata": {},
     "output_type": "execute_result"
    }
   ],
   "source": [
    "# seeing where there might be a problem with null values\n",
    "is_null = data.columns[data.isnull().any()] \n",
    "is_null"
   ]
  },
  {
   "cell_type": "code",
   "execution_count": 135,
   "metadata": {
    "scrolled": true
   },
   "outputs": [
    {
     "name": "stdout",
     "output_type": "stream",
     "text": [
      "<class 'pandas.core.frame.DataFrame'>\n",
      "RangeIndex: 14182 entries, 0 to 14181\n",
      "Data columns (total 12 columns):\n",
      "NUM_NEG_PER     14150 non-null float64\n",
      "NUM_NEG1_PER    14150 non-null float64\n",
      "NUM_NEG2_PER    14149 non-null float64\n",
      "NUM_NEG3_PER    14149 non-null float64\n",
      "NUM_NEU_PER     14150 non-null float64\n",
      "NUM_NEU1_PER    14150 non-null float64\n",
      "NUM_NEU2_PER    14149 non-null float64\n",
      "NUM_NEU3_PER    14149 non-null float64\n",
      "NUM_POS_PER     14150 non-null float64\n",
      "NUM_POS1_PER    14150 non-null float64\n",
      "NUM_POS2_PER    14149 non-null float64\n",
      "NUM_POS3_PER    14149 non-null float64\n",
      "dtypes: float64(12)\n",
      "memory usage: 1.3 MB\n"
     ]
    }
   ],
   "source": [
    "# about 30 missing values for each, for whatever reason\n",
    "data[is_null].info() "
   ]
  },
  {
   "cell_type": "code",
   "execution_count": 136,
   "metadata": {
    "collapsed": true
   },
   "outputs": [],
   "source": [
    "#just fill in null values with whatever is closest\n",
    "for e in is_null: \n",
    "    data[e].fillna(data[e].mean(), inplace=True)"
   ]
  },
  {
   "cell_type": "code",
   "execution_count": 137,
   "metadata": {
    "collapsed": true
   },
   "outputs": [],
   "source": [
    "# create the classes\n",
    "for i in range(len(data)): \n",
    "    if data.loc[i,\"CLOSE\"] > data.loc[i,\"OPEN\"]+.25:\n",
    "        # gained by more than $.25\n",
    "        data.loc[i,\"class\"] = 1 \n",
    "    elif data.loc[i,\"CLOSE\"] < data.loc[i,'OPEN']-.25:\n",
    "        # lost by more than $.25\n",
    "        data.loc[i,\"class\"] = 2  \n",
    "    else:\n",
    "        # minimal change\n",
    "        data.loc[i,\"class\"] = 0 "
   ]
  },
  {
   "cell_type": "code",
   "execution_count": 138,
   "metadata": {},
   "outputs": [
    {
     "data": {
      "text/html": [
       "<div>\n",
       "<style scoped>\n",
       "    .dataframe tbody tr th:only-of-type {\n",
       "        vertical-align: middle;\n",
       "    }\n",
       "\n",
       "    .dataframe tbody tr th {\n",
       "        vertical-align: top;\n",
       "    }\n",
       "\n",
       "    .dataframe thead th {\n",
       "        text-align: right;\n",
       "    }\n",
       "</style>\n",
       "<table border=\"1\" class=\"dataframe\">\n",
       "  <thead>\n",
       "    <tr style=\"text-align: right;\">\n",
       "      <th></th>\n",
       "      <th>CLOSE</th>\n",
       "      <th>OPEN</th>\n",
       "      <th>Date</th>\n",
       "      <th>weekend</th>\n",
       "      <th>class</th>\n",
       "    </tr>\n",
       "  </thead>\n",
       "  <tbody>\n",
       "    <tr>\n",
       "      <th>0</th>\n",
       "      <td>76.02</td>\n",
       "      <td>76.50</td>\n",
       "      <td>2013-06-04</td>\n",
       "      <td>0</td>\n",
       "      <td>2.0</td>\n",
       "    </tr>\n",
       "    <tr>\n",
       "      <th>1</th>\n",
       "      <td>74.79</td>\n",
       "      <td>76.04</td>\n",
       "      <td>2013-06-05</td>\n",
       "      <td>0</td>\n",
       "      <td>2.0</td>\n",
       "    </tr>\n",
       "    <tr>\n",
       "      <th>2</th>\n",
       "      <td>76.24</td>\n",
       "      <td>74.75</td>\n",
       "      <td>2013-06-06</td>\n",
       "      <td>0</td>\n",
       "      <td>1.0</td>\n",
       "    </tr>\n",
       "    <tr>\n",
       "      <th>3</th>\n",
       "      <td>78.03</td>\n",
       "      <td>76.68</td>\n",
       "      <td>2013-06-07</td>\n",
       "      <td>0</td>\n",
       "      <td>1.0</td>\n",
       "    </tr>\n",
       "    <tr>\n",
       "      <th>4</th>\n",
       "      <td>78.03</td>\n",
       "      <td>76.68</td>\n",
       "      <td>2013-06-08</td>\n",
       "      <td>1</td>\n",
       "      <td>1.0</td>\n",
       "    </tr>\n",
       "    <tr>\n",
       "      <th>5</th>\n",
       "      <td>78.03</td>\n",
       "      <td>76.68</td>\n",
       "      <td>2013-06-09</td>\n",
       "      <td>1</td>\n",
       "      <td>1.0</td>\n",
       "    </tr>\n",
       "    <tr>\n",
       "      <th>6</th>\n",
       "      <td>78.27</td>\n",
       "      <td>77.98</td>\n",
       "      <td>2013-06-10</td>\n",
       "      <td>0</td>\n",
       "      <td>1.0</td>\n",
       "    </tr>\n",
       "    <tr>\n",
       "      <th>7</th>\n",
       "      <td>76.52</td>\n",
       "      <td>77.61</td>\n",
       "      <td>2013-06-11</td>\n",
       "      <td>0</td>\n",
       "      <td>2.0</td>\n",
       "    </tr>\n",
       "    <tr>\n",
       "      <th>8</th>\n",
       "      <td>74.72</td>\n",
       "      <td>76.91</td>\n",
       "      <td>2013-06-12</td>\n",
       "      <td>0</td>\n",
       "      <td>2.0</td>\n",
       "    </tr>\n",
       "    <tr>\n",
       "      <th>9</th>\n",
       "      <td>75.21</td>\n",
       "      <td>74.46</td>\n",
       "      <td>2013-06-13</td>\n",
       "      <td>0</td>\n",
       "      <td>1.0</td>\n",
       "    </tr>\n",
       "    <tr>\n",
       "      <th>10</th>\n",
       "      <td>72.96</td>\n",
       "      <td>74.78</td>\n",
       "      <td>2013-06-14</td>\n",
       "      <td>0</td>\n",
       "      <td>2.0</td>\n",
       "    </tr>\n",
       "    <tr>\n",
       "      <th>11</th>\n",
       "      <td>72.96</td>\n",
       "      <td>74.78</td>\n",
       "      <td>2013-06-15</td>\n",
       "      <td>1</td>\n",
       "      <td>2.0</td>\n",
       "    </tr>\n",
       "    <tr>\n",
       "      <th>12</th>\n",
       "      <td>72.96</td>\n",
       "      <td>74.78</td>\n",
       "      <td>2013-06-16</td>\n",
       "      <td>1</td>\n",
       "      <td>2.0</td>\n",
       "    </tr>\n",
       "    <tr>\n",
       "      <th>13</th>\n",
       "      <td>73.86</td>\n",
       "      <td>73.69</td>\n",
       "      <td>2013-06-17</td>\n",
       "      <td>0</td>\n",
       "      <td>0.0</td>\n",
       "    </tr>\n",
       "    <tr>\n",
       "      <th>14</th>\n",
       "      <td>74.99</td>\n",
       "      <td>74.10</td>\n",
       "      <td>2013-06-18</td>\n",
       "      <td>0</td>\n",
       "      <td>1.0</td>\n",
       "    </tr>\n",
       "    <tr>\n",
       "      <th>15</th>\n",
       "      <td>74.24</td>\n",
       "      <td>74.87</td>\n",
       "      <td>2013-06-19</td>\n",
       "      <td>0</td>\n",
       "      <td>2.0</td>\n",
       "    </tr>\n",
       "    <tr>\n",
       "      <th>16</th>\n",
       "      <td>72.95</td>\n",
       "      <td>73.76</td>\n",
       "      <td>2013-06-20</td>\n",
       "      <td>0</td>\n",
       "      <td>2.0</td>\n",
       "    </tr>\n",
       "    <tr>\n",
       "      <th>17</th>\n",
       "      <td>73.33</td>\n",
       "      <td>73.38</td>\n",
       "      <td>2013-06-21</td>\n",
       "      <td>0</td>\n",
       "      <td>0.0</td>\n",
       "    </tr>\n",
       "    <tr>\n",
       "      <th>18</th>\n",
       "      <td>73.33</td>\n",
       "      <td>73.38</td>\n",
       "      <td>2013-06-22</td>\n",
       "      <td>1</td>\n",
       "      <td>0.0</td>\n",
       "    </tr>\n",
       "    <tr>\n",
       "      <th>19</th>\n",
       "      <td>73.33</td>\n",
       "      <td>73.38</td>\n",
       "      <td>2013-06-23</td>\n",
       "      <td>1</td>\n",
       "      <td>0.0</td>\n",
       "    </tr>\n",
       "    <tr>\n",
       "      <th>20</th>\n",
       "      <td>72.03</td>\n",
       "      <td>72.57</td>\n",
       "      <td>2013-06-24</td>\n",
       "      <td>0</td>\n",
       "      <td>2.0</td>\n",
       "    </tr>\n",
       "    <tr>\n",
       "      <th>21</th>\n",
       "      <td>73.23</td>\n",
       "      <td>72.63</td>\n",
       "      <td>2013-06-25</td>\n",
       "      <td>0</td>\n",
       "      <td>1.0</td>\n",
       "    </tr>\n",
       "    <tr>\n",
       "      <th>22</th>\n",
       "      <td>73.91</td>\n",
       "      <td>73.64</td>\n",
       "      <td>2013-06-26</td>\n",
       "      <td>0</td>\n",
       "      <td>1.0</td>\n",
       "    </tr>\n",
       "    <tr>\n",
       "      <th>23</th>\n",
       "      <td>75.14</td>\n",
       "      <td>74.46</td>\n",
       "      <td>2013-06-27</td>\n",
       "      <td>0</td>\n",
       "      <td>1.0</td>\n",
       "    </tr>\n",
       "    <tr>\n",
       "      <th>24</th>\n",
       "      <td>74.69</td>\n",
       "      <td>75.00</td>\n",
       "      <td>2013-06-28</td>\n",
       "      <td>0</td>\n",
       "      <td>2.0</td>\n",
       "    </tr>\n",
       "    <tr>\n",
       "      <th>25</th>\n",
       "      <td>74.69</td>\n",
       "      <td>75.00</td>\n",
       "      <td>2013-06-29</td>\n",
       "      <td>1</td>\n",
       "      <td>2.0</td>\n",
       "    </tr>\n",
       "    <tr>\n",
       "      <th>26</th>\n",
       "      <td>74.69</td>\n",
       "      <td>75.00</td>\n",
       "      <td>2013-06-30</td>\n",
       "      <td>1</td>\n",
       "      <td>2.0</td>\n",
       "    </tr>\n",
       "    <tr>\n",
       "      <th>27</th>\n",
       "      <td>75.64</td>\n",
       "      <td>75.53</td>\n",
       "      <td>2013-07-01</td>\n",
       "      <td>0</td>\n",
       "      <td>0.0</td>\n",
       "    </tr>\n",
       "    <tr>\n",
       "      <th>28</th>\n",
       "      <td>74.62</td>\n",
       "      <td>75.43</td>\n",
       "      <td>2013-07-02</td>\n",
       "      <td>0</td>\n",
       "      <td>2.0</td>\n",
       "    </tr>\n",
       "    <tr>\n",
       "      <th>29</th>\n",
       "      <td>74.37</td>\n",
       "      <td>74.02</td>\n",
       "      <td>2013-07-03</td>\n",
       "      <td>0</td>\n",
       "      <td>1.0</td>\n",
       "    </tr>\n",
       "    <tr>\n",
       "      <th>...</th>\n",
       "      <td>...</td>\n",
       "      <td>...</td>\n",
       "      <td>...</td>\n",
       "      <td>...</td>\n",
       "      <td>...</td>\n",
       "    </tr>\n",
       "    <tr>\n",
       "      <th>14152</th>\n",
       "      <td>99.71</td>\n",
       "      <td>99.55</td>\n",
       "      <td>2014-08-20</td>\n",
       "      <td>0</td>\n",
       "      <td>0.0</td>\n",
       "    </tr>\n",
       "    <tr>\n",
       "      <th>14153</th>\n",
       "      <td>99.29</td>\n",
       "      <td>99.80</td>\n",
       "      <td>2014-08-21</td>\n",
       "      <td>0</td>\n",
       "      <td>2.0</td>\n",
       "    </tr>\n",
       "    <tr>\n",
       "      <th>14154</th>\n",
       "      <td>98.50</td>\n",
       "      <td>98.90</td>\n",
       "      <td>2014-08-22</td>\n",
       "      <td>0</td>\n",
       "      <td>2.0</td>\n",
       "    </tr>\n",
       "    <tr>\n",
       "      <th>14155</th>\n",
       "      <td>98.50</td>\n",
       "      <td>98.90</td>\n",
       "      <td>2014-08-23</td>\n",
       "      <td>1</td>\n",
       "      <td>2.0</td>\n",
       "    </tr>\n",
       "    <tr>\n",
       "      <th>14156</th>\n",
       "      <td>98.50</td>\n",
       "      <td>98.90</td>\n",
       "      <td>2014-08-24</td>\n",
       "      <td>1</td>\n",
       "      <td>2.0</td>\n",
       "    </tr>\n",
       "    <tr>\n",
       "      <th>14157</th>\n",
       "      <td>98.78</td>\n",
       "      <td>98.58</td>\n",
       "      <td>2014-08-25</td>\n",
       "      <td>0</td>\n",
       "      <td>0.0</td>\n",
       "    </tr>\n",
       "    <tr>\n",
       "      <th>14158</th>\n",
       "      <td>99.65</td>\n",
       "      <td>99.12</td>\n",
       "      <td>2014-08-26</td>\n",
       "      <td>0</td>\n",
       "      <td>1.0</td>\n",
       "    </tr>\n",
       "    <tr>\n",
       "      <th>14159</th>\n",
       "      <td>99.49</td>\n",
       "      <td>99.78</td>\n",
       "      <td>2014-08-27</td>\n",
       "      <td>0</td>\n",
       "      <td>2.0</td>\n",
       "    </tr>\n",
       "    <tr>\n",
       "      <th>14160</th>\n",
       "      <td>99.61</td>\n",
       "      <td>99.04</td>\n",
       "      <td>2014-08-28</td>\n",
       "      <td>0</td>\n",
       "      <td>1.0</td>\n",
       "    </tr>\n",
       "    <tr>\n",
       "      <th>14161</th>\n",
       "      <td>99.45</td>\n",
       "      <td>99.38</td>\n",
       "      <td>2014-08-29</td>\n",
       "      <td>0</td>\n",
       "      <td>0.0</td>\n",
       "    </tr>\n",
       "    <tr>\n",
       "      <th>14162</th>\n",
       "      <td>99.45</td>\n",
       "      <td>99.38</td>\n",
       "      <td>2014-08-30</td>\n",
       "      <td>1</td>\n",
       "      <td>0.0</td>\n",
       "    </tr>\n",
       "    <tr>\n",
       "      <th>14163</th>\n",
       "      <td>99.45</td>\n",
       "      <td>99.38</td>\n",
       "      <td>2014-08-31</td>\n",
       "      <td>1</td>\n",
       "      <td>0.0</td>\n",
       "    </tr>\n",
       "    <tr>\n",
       "      <th>14164</th>\n",
       "      <td>99.45</td>\n",
       "      <td>99.38</td>\n",
       "      <td>2014-09-01</td>\n",
       "      <td>1</td>\n",
       "      <td>0.0</td>\n",
       "    </tr>\n",
       "    <tr>\n",
       "      <th>14165</th>\n",
       "      <td>98.46</td>\n",
       "      <td>99.43</td>\n",
       "      <td>2014-09-02</td>\n",
       "      <td>0</td>\n",
       "      <td>2.0</td>\n",
       "    </tr>\n",
       "    <tr>\n",
       "      <th>14166</th>\n",
       "      <td>99.11</td>\n",
       "      <td>98.86</td>\n",
       "      <td>2014-09-03</td>\n",
       "      <td>0</td>\n",
       "      <td>0.0</td>\n",
       "    </tr>\n",
       "    <tr>\n",
       "      <th>14167</th>\n",
       "      <td>98.36</td>\n",
       "      <td>99.00</td>\n",
       "      <td>2014-09-04</td>\n",
       "      <td>0</td>\n",
       "      <td>2.0</td>\n",
       "    </tr>\n",
       "    <tr>\n",
       "      <th>14168</th>\n",
       "      <td>99.19</td>\n",
       "      <td>98.74</td>\n",
       "      <td>2014-09-05</td>\n",
       "      <td>0</td>\n",
       "      <td>1.0</td>\n",
       "    </tr>\n",
       "    <tr>\n",
       "      <th>14169</th>\n",
       "      <td>99.19</td>\n",
       "      <td>98.74</td>\n",
       "      <td>2014-09-06</td>\n",
       "      <td>1</td>\n",
       "      <td>1.0</td>\n",
       "    </tr>\n",
       "    <tr>\n",
       "      <th>14170</th>\n",
       "      <td>99.19</td>\n",
       "      <td>98.74</td>\n",
       "      <td>2014-09-07</td>\n",
       "      <td>1</td>\n",
       "      <td>1.0</td>\n",
       "    </tr>\n",
       "    <tr>\n",
       "      <th>14171</th>\n",
       "      <td>97.74</td>\n",
       "      <td>98.92</td>\n",
       "      <td>2014-09-08</td>\n",
       "      <td>0</td>\n",
       "      <td>2.0</td>\n",
       "    </tr>\n",
       "    <tr>\n",
       "      <th>14172</th>\n",
       "      <td>97.39</td>\n",
       "      <td>97.80</td>\n",
       "      <td>2014-09-09</td>\n",
       "      <td>0</td>\n",
       "      <td>2.0</td>\n",
       "    </tr>\n",
       "    <tr>\n",
       "      <th>14173</th>\n",
       "      <td>96.82</td>\n",
       "      <td>97.38</td>\n",
       "      <td>2014-09-10</td>\n",
       "      <td>0</td>\n",
       "      <td>2.0</td>\n",
       "    </tr>\n",
       "    <tr>\n",
       "      <th>14174</th>\n",
       "      <td>97.01</td>\n",
       "      <td>96.32</td>\n",
       "      <td>2014-09-11</td>\n",
       "      <td>0</td>\n",
       "      <td>1.0</td>\n",
       "    </tr>\n",
       "    <tr>\n",
       "      <th>14175</th>\n",
       "      <td>95.77</td>\n",
       "      <td>96.53</td>\n",
       "      <td>2014-09-12</td>\n",
       "      <td>0</td>\n",
       "      <td>2.0</td>\n",
       "    </tr>\n",
       "    <tr>\n",
       "      <th>14176</th>\n",
       "      <td>95.77</td>\n",
       "      <td>96.53</td>\n",
       "      <td>2014-09-13</td>\n",
       "      <td>1</td>\n",
       "      <td>2.0</td>\n",
       "    </tr>\n",
       "    <tr>\n",
       "      <th>14177</th>\n",
       "      <td>95.77</td>\n",
       "      <td>96.53</td>\n",
       "      <td>2014-09-14</td>\n",
       "      <td>1</td>\n",
       "      <td>2.0</td>\n",
       "    </tr>\n",
       "    <tr>\n",
       "      <th>14178</th>\n",
       "      <td>96.28</td>\n",
       "      <td>95.73</td>\n",
       "      <td>2014-09-15</td>\n",
       "      <td>0</td>\n",
       "      <td>1.0</td>\n",
       "    </tr>\n",
       "    <tr>\n",
       "      <th>14179</th>\n",
       "      <td>97.43</td>\n",
       "      <td>96.23</td>\n",
       "      <td>2014-09-16</td>\n",
       "      <td>0</td>\n",
       "      <td>1.0</td>\n",
       "    </tr>\n",
       "    <tr>\n",
       "      <th>14180</th>\n",
       "      <td>97.08</td>\n",
       "      <td>97.83</td>\n",
       "      <td>2014-09-17</td>\n",
       "      <td>0</td>\n",
       "      <td>2.0</td>\n",
       "    </tr>\n",
       "    <tr>\n",
       "      <th>14181</th>\n",
       "      <td>96.62</td>\n",
       "      <td>97.15</td>\n",
       "      <td>2014-09-18</td>\n",
       "      <td>0</td>\n",
       "      <td>2.0</td>\n",
       "    </tr>\n",
       "  </tbody>\n",
       "</table>\n",
       "<p>14182 rows × 5 columns</p>\n",
       "</div>"
      ],
      "text/plain": [
       "       CLOSE   OPEN       Date  weekend  class\n",
       "0      76.02  76.50 2013-06-04        0    2.0\n",
       "1      74.79  76.04 2013-06-05        0    2.0\n",
       "2      76.24  74.75 2013-06-06        0    1.0\n",
       "3      78.03  76.68 2013-06-07        0    1.0\n",
       "4      78.03  76.68 2013-06-08        1    1.0\n",
       "5      78.03  76.68 2013-06-09        1    1.0\n",
       "6      78.27  77.98 2013-06-10        0    1.0\n",
       "7      76.52  77.61 2013-06-11        0    2.0\n",
       "8      74.72  76.91 2013-06-12        0    2.0\n",
       "9      75.21  74.46 2013-06-13        0    1.0\n",
       "10     72.96  74.78 2013-06-14        0    2.0\n",
       "11     72.96  74.78 2013-06-15        1    2.0\n",
       "12     72.96  74.78 2013-06-16        1    2.0\n",
       "13     73.86  73.69 2013-06-17        0    0.0\n",
       "14     74.99  74.10 2013-06-18        0    1.0\n",
       "15     74.24  74.87 2013-06-19        0    2.0\n",
       "16     72.95  73.76 2013-06-20        0    2.0\n",
       "17     73.33  73.38 2013-06-21        0    0.0\n",
       "18     73.33  73.38 2013-06-22        1    0.0\n",
       "19     73.33  73.38 2013-06-23        1    0.0\n",
       "20     72.03  72.57 2013-06-24        0    2.0\n",
       "21     73.23  72.63 2013-06-25        0    1.0\n",
       "22     73.91  73.64 2013-06-26        0    1.0\n",
       "23     75.14  74.46 2013-06-27        0    1.0\n",
       "24     74.69  75.00 2013-06-28        0    2.0\n",
       "25     74.69  75.00 2013-06-29        1    2.0\n",
       "26     74.69  75.00 2013-06-30        1    2.0\n",
       "27     75.64  75.53 2013-07-01        0    0.0\n",
       "28     74.62  75.43 2013-07-02        0    2.0\n",
       "29     74.37  74.02 2013-07-03        0    1.0\n",
       "...      ...    ...        ...      ...    ...\n",
       "14152  99.71  99.55 2014-08-20        0    0.0\n",
       "14153  99.29  99.80 2014-08-21        0    2.0\n",
       "14154  98.50  98.90 2014-08-22        0    2.0\n",
       "14155  98.50  98.90 2014-08-23        1    2.0\n",
       "14156  98.50  98.90 2014-08-24        1    2.0\n",
       "14157  98.78  98.58 2014-08-25        0    0.0\n",
       "14158  99.65  99.12 2014-08-26        0    1.0\n",
       "14159  99.49  99.78 2014-08-27        0    2.0\n",
       "14160  99.61  99.04 2014-08-28        0    1.0\n",
       "14161  99.45  99.38 2014-08-29        0    0.0\n",
       "14162  99.45  99.38 2014-08-30        1    0.0\n",
       "14163  99.45  99.38 2014-08-31        1    0.0\n",
       "14164  99.45  99.38 2014-09-01        1    0.0\n",
       "14165  98.46  99.43 2014-09-02        0    2.0\n",
       "14166  99.11  98.86 2014-09-03        0    0.0\n",
       "14167  98.36  99.00 2014-09-04        0    2.0\n",
       "14168  99.19  98.74 2014-09-05        0    1.0\n",
       "14169  99.19  98.74 2014-09-06        1    1.0\n",
       "14170  99.19  98.74 2014-09-07        1    1.0\n",
       "14171  97.74  98.92 2014-09-08        0    2.0\n",
       "14172  97.39  97.80 2014-09-09        0    2.0\n",
       "14173  96.82  97.38 2014-09-10        0    2.0\n",
       "14174  97.01  96.32 2014-09-11        0    1.0\n",
       "14175  95.77  96.53 2014-09-12        0    2.0\n",
       "14176  95.77  96.53 2014-09-13        1    2.0\n",
       "14177  95.77  96.53 2014-09-14        1    2.0\n",
       "14178  96.28  95.73 2014-09-15        0    1.0\n",
       "14179  97.43  96.23 2014-09-16        0    1.0\n",
       "14180  97.08  97.83 2014-09-17        0    2.0\n",
       "14181  96.62  97.15 2014-09-18        0    2.0\n",
       "\n",
       "[14182 rows x 5 columns]"
      ]
     },
     "execution_count": 138,
     "metadata": {},
     "output_type": "execute_result"
    }
   ],
   "source": [
    "#see how the data looks\n",
    "data[[\"CLOSE\", \"OPEN\", \"Date\", \"weekend\",\"class\"]] "
   ]
  },
  {
   "cell_type": "code",
   "execution_count": 139,
   "metadata": {},
   "outputs": [
    {
     "data": {
      "text/html": [
       "<div>\n",
       "<style scoped>\n",
       "    .dataframe tbody tr th:only-of-type {\n",
       "        vertical-align: middle;\n",
       "    }\n",
       "\n",
       "    .dataframe tbody tr th {\n",
       "        vertical-align: top;\n",
       "    }\n",
       "\n",
       "    .dataframe thead th {\n",
       "        text-align: right;\n",
       "    }\n",
       "</style>\n",
       "<table border=\"1\" class=\"dataframe\">\n",
       "  <thead>\n",
       "    <tr style=\"text-align: right;\">\n",
       "      <th></th>\n",
       "      <th>Unnamed: 0</th>\n",
       "      <th>Date</th>\n",
       "      <th>HIGH</th>\n",
       "      <th>CLOSE</th>\n",
       "      <th>OPEN</th>\n",
       "      <th>LOW</th>\n",
       "      <th>NUM_NEG</th>\n",
       "      <th>NUM_NEU</th>\n",
       "      <th>NUM_POS</th>\n",
       "      <th>TW</th>\n",
       "      <th>...</th>\n",
       "      <th>NUM_POS2_PER</th>\n",
       "      <th>NUM_POS3_PER</th>\n",
       "      <th>day_Friday</th>\n",
       "      <th>day_Monday</th>\n",
       "      <th>day_Saturday</th>\n",
       "      <th>day_Sunday</th>\n",
       "      <th>day_Thursday</th>\n",
       "      <th>day_Tuesday</th>\n",
       "      <th>day_Wednesday</th>\n",
       "      <th>class</th>\n",
       "    </tr>\n",
       "  </thead>\n",
       "  <tbody>\n",
       "    <tr>\n",
       "      <th>0</th>\n",
       "      <td>0</td>\n",
       "      <td>2013-06-04</td>\n",
       "      <td>77.24</td>\n",
       "      <td>76.02</td>\n",
       "      <td>76.50</td>\n",
       "      <td>75.96</td>\n",
       "      <td>2</td>\n",
       "      <td>12</td>\n",
       "      <td>6</td>\n",
       "      <td>20</td>\n",
       "      <td>...</td>\n",
       "      <td>0.000000</td>\n",
       "      <td>0.000000</td>\n",
       "      <td>0</td>\n",
       "      <td>0</td>\n",
       "      <td>0</td>\n",
       "      <td>0</td>\n",
       "      <td>0</td>\n",
       "      <td>1</td>\n",
       "      <td>0</td>\n",
       "      <td>2.0</td>\n",
       "    </tr>\n",
       "    <tr>\n",
       "      <th>1</th>\n",
       "      <td>1</td>\n",
       "      <td>2013-06-05</td>\n",
       "      <td>76.28</td>\n",
       "      <td>74.79</td>\n",
       "      <td>76.04</td>\n",
       "      <td>74.64</td>\n",
       "      <td>0</td>\n",
       "      <td>4</td>\n",
       "      <td>2</td>\n",
       "      <td>6</td>\n",
       "      <td>...</td>\n",
       "      <td>0.090909</td>\n",
       "      <td>0.000000</td>\n",
       "      <td>0</td>\n",
       "      <td>0</td>\n",
       "      <td>0</td>\n",
       "      <td>0</td>\n",
       "      <td>0</td>\n",
       "      <td>0</td>\n",
       "      <td>1</td>\n",
       "      <td>2.0</td>\n",
       "    </tr>\n",
       "    <tr>\n",
       "      <th>2</th>\n",
       "      <td>2</td>\n",
       "      <td>2013-06-06</td>\n",
       "      <td>76.25</td>\n",
       "      <td>76.24</td>\n",
       "      <td>74.75</td>\n",
       "      <td>74.64</td>\n",
       "      <td>1</td>\n",
       "      <td>9</td>\n",
       "      <td>0</td>\n",
       "      <td>10</td>\n",
       "      <td>...</td>\n",
       "      <td>0.300000</td>\n",
       "      <td>0.090909</td>\n",
       "      <td>0</td>\n",
       "      <td>0</td>\n",
       "      <td>0</td>\n",
       "      <td>0</td>\n",
       "      <td>1</td>\n",
       "      <td>0</td>\n",
       "      <td>0</td>\n",
       "      <td>1.0</td>\n",
       "    </tr>\n",
       "    <tr>\n",
       "      <th>3</th>\n",
       "      <td>3</td>\n",
       "      <td>2013-06-07</td>\n",
       "      <td>78.12</td>\n",
       "      <td>78.03</td>\n",
       "      <td>76.68</td>\n",
       "      <td>76.45</td>\n",
       "      <td>2</td>\n",
       "      <td>4</td>\n",
       "      <td>11</td>\n",
       "      <td>17</td>\n",
       "      <td>...</td>\n",
       "      <td>0.333333</td>\n",
       "      <td>0.300000</td>\n",
       "      <td>1</td>\n",
       "      <td>0</td>\n",
       "      <td>0</td>\n",
       "      <td>0</td>\n",
       "      <td>0</td>\n",
       "      <td>0</td>\n",
       "      <td>0</td>\n",
       "      <td>1.0</td>\n",
       "    </tr>\n",
       "    <tr>\n",
       "      <th>6</th>\n",
       "      <td>6</td>\n",
       "      <td>2013-06-10</td>\n",
       "      <td>78.61</td>\n",
       "      <td>78.27</td>\n",
       "      <td>77.98</td>\n",
       "      <td>77.69</td>\n",
       "      <td>0</td>\n",
       "      <td>6</td>\n",
       "      <td>7</td>\n",
       "      <td>13</td>\n",
       "      <td>...</td>\n",
       "      <td>0.500000</td>\n",
       "      <td>0.647059</td>\n",
       "      <td>0</td>\n",
       "      <td>1</td>\n",
       "      <td>0</td>\n",
       "      <td>0</td>\n",
       "      <td>0</td>\n",
       "      <td>0</td>\n",
       "      <td>0</td>\n",
       "      <td>1.0</td>\n",
       "    </tr>\n",
       "  </tbody>\n",
       "</table>\n",
       "<p>5 rows × 76 columns</p>\n",
       "</div>"
      ],
      "text/plain": [
       "   Unnamed: 0       Date   HIGH  CLOSE   OPEN    LOW  NUM_NEG  NUM_NEU  \\\n",
       "0           0 2013-06-04  77.24  76.02  76.50  75.96        2       12   \n",
       "1           1 2013-06-05  76.28  74.79  76.04  74.64        0        4   \n",
       "2           2 2013-06-06  76.25  76.24  74.75  74.64        1        9   \n",
       "3           3 2013-06-07  78.12  78.03  76.68  76.45        2        4   \n",
       "6           6 2013-06-10  78.61  78.27  77.98  77.69        0        6   \n",
       "\n",
       "   NUM_POS  TW  ...    NUM_POS2_PER  NUM_POS3_PER  day_Friday  day_Monday  \\\n",
       "0        6  20  ...        0.000000      0.000000           0           0   \n",
       "1        2   6  ...        0.090909      0.000000           0           0   \n",
       "2        0  10  ...        0.300000      0.090909           0           0   \n",
       "3       11  17  ...        0.333333      0.300000           1           0   \n",
       "6        7  13  ...        0.500000      0.647059           0           1   \n",
       "\n",
       "   day_Saturday  day_Sunday  day_Thursday  day_Tuesday  day_Wednesday  class  \n",
       "0             0           0             0            1              0    2.0  \n",
       "1             0           0             0            0              1    2.0  \n",
       "2             0           0             1            0              0    1.0  \n",
       "3             0           0             0            0              0    1.0  \n",
       "6             0           0             0            0              0    1.0  \n",
       "\n",
       "[5 rows x 76 columns]"
      ]
     },
     "execution_count": 139,
     "metadata": {},
     "output_type": "execute_result"
    }
   ],
   "source": [
    "#drop out the weekend data, no trades occur on weekends\n",
    "data = data.loc[data.weekend==0]\n",
    "data.head() "
   ]
  },
  {
   "cell_type": "code",
   "execution_count": 140,
   "metadata": {
    "collapsed": true
   },
   "outputs": [],
   "source": [
    "# creating our target\n",
    "target = data.CLOSE \n",
    "\n",
    "# target for classifiers\n",
    "target_class = data[\"class\"] \n",
    "\n",
    "# other columns that we don't really need for now\n",
    "high = data.HIGH \n",
    "low = data.LOW "
   ]
  },
  {
   "cell_type": "markdown",
   "metadata": {},
   "source": [
    "### Creating some cleaned up datasets to use in our testing"
   ]
  },
  {
   "cell_type": "code",
   "execution_count": 141,
   "metadata": {
    "collapsed": true
   },
   "outputs": [],
   "source": [
    "# get rid of those unnecesary vars for first usable dataset\n",
    "data1 = data.drop(columns=['CLOSE', 'HIGH', 'LOW', 'Unnamed: 0', 'class', 'day_Saturday', 'day_Sunday']) "
   ]
  },
  {
   "cell_type": "code",
   "execution_count": 142,
   "metadata": {
    "collapsed": true
   },
   "outputs": [],
   "source": [
    "# create a df without the dates\n",
    "data_nodate = data1.drop(columns='Date') "
   ]
  },
  {
   "cell_type": "code",
   "execution_count": 143,
   "metadata": {
    "collapsed": true
   },
   "outputs": [],
   "source": [
    "# create a df without anything for the day of interest\n",
    "data_prev = data_nodate.drop(columns=['NUM_NEG', 'NUM_NEU', 'NUM_POS', 'NUM_NEG_PER', 'NUM_NEU_PER', 'NUM_POS_PER', \"TW\"])"
   ]
  },
  {
   "cell_type": "code",
   "execution_count": 144,
   "metadata": {
    "collapsed": true
   },
   "outputs": [],
   "source": [
    "# creating df without opening price for the \"nodate\" data and previous day data\n",
    "data_nopen_date = data_nodate.drop(columns='OPEN')\n",
    "data_nopen_prev = data_prev.drop(columns='OPEN')"
   ]
  },
  {
   "cell_type": "code",
   "execution_count": 145,
   "metadata": {
    "collapsed": true
   },
   "outputs": [],
   "source": [
    "# turn everything into floats so that scaler is happy\n",
    "\n",
    "data_nodate = pd.DataFrame(data_nodate, dtype='float')\n",
    "data_prev = pd.DataFrame(data_prev, dtype='float')\n",
    "data_nopen_date = pd.DataFrame(data_nopen_date, dtype='float')\n",
    "data_nopen_prev = pd.DataFrame(data_nopen_prev, dtype='float')"
   ]
  },
  {
   "cell_type": "code",
   "execution_count": 146,
   "metadata": {},
   "outputs": [
    {
     "name": "stdout",
     "output_type": "stream",
     "text": [
      "<class 'pandas.core.frame.DataFrame'>\n",
      "Int64Index: 9832 entries, 0 to 14181\n",
      "Data columns (total 60 columns):\n",
      "weekend          9832 non-null float64\n",
      "NUM_NEG1         9832 non-null float64\n",
      "NUM_NEG2         9832 non-null float64\n",
      "NUM_NEG3         9832 non-null float64\n",
      "NUM_NEU1         9832 non-null float64\n",
      "NUM_NEU2         9832 non-null float64\n",
      "NUM_NEU3         9832 non-null float64\n",
      "NUM_POS1         9832 non-null float64\n",
      "NUM_POS2         9832 non-null float64\n",
      "NUM_POS3         9832 non-null float64\n",
      "TW1              9832 non-null float64\n",
      "TW2              9832 non-null float64\n",
      "TW3              9832 non-null float64\n",
      "CLOSE1           9832 non-null float64\n",
      "CLOSE2           9832 non-null float64\n",
      "CLOSE3           9832 non-null float64\n",
      "AXP              9832 non-null float64\n",
      "BA               9832 non-null float64\n",
      "CAT              9832 non-null float64\n",
      "CSCO             9832 non-null float64\n",
      "CVX              9832 non-null float64\n",
      "DD               9832 non-null float64\n",
      "DIS              9832 non-null float64\n",
      "GE               9832 non-null float64\n",
      "GS               9832 non-null float64\n",
      "HD               9832 non-null float64\n",
      "IBM              9832 non-null float64\n",
      "INTC             9832 non-null float64\n",
      "JNJ              9832 non-null float64\n",
      "JPM              9832 non-null float64\n",
      "KO               9832 non-null float64\n",
      "MCD              9832 non-null float64\n",
      "MMM              9832 non-null float64\n",
      "MRK              9832 non-null float64\n",
      "MSFT             9832 non-null float64\n",
      "NKE              9832 non-null float64\n",
      "PFE              9832 non-null float64\n",
      "PG               9832 non-null float64\n",
      "T                9832 non-null float64\n",
      "TRV              9832 non-null float64\n",
      "UNH              9832 non-null float64\n",
      "UTX              9832 non-null float64\n",
      "V                9832 non-null float64\n",
      "VZ               9832 non-null float64\n",
      "WMT              9832 non-null float64\n",
      "XOM              9832 non-null float64\n",
      "NUM_NEG1_PER     9832 non-null float64\n",
      "NUM_NEG2_PER     9832 non-null float64\n",
      "NUM_NEG3_PER     9832 non-null float64\n",
      "NUM_NEU1_PER     9832 non-null float64\n",
      "NUM_NEU2_PER     9832 non-null float64\n",
      "NUM_NEU3_PER     9832 non-null float64\n",
      "NUM_POS1_PER     9832 non-null float64\n",
      "NUM_POS2_PER     9832 non-null float64\n",
      "NUM_POS3_PER     9832 non-null float64\n",
      "day_Friday       9832 non-null float64\n",
      "day_Monday       9832 non-null float64\n",
      "day_Thursday     9832 non-null float64\n",
      "day_Tuesday      9832 non-null float64\n",
      "day_Wednesday    9832 non-null float64\n",
      "dtypes: float64(60)\n",
      "memory usage: 4.6 MB\n"
     ]
    }
   ],
   "source": [
    "# check to see that everything looks clean\n",
    "data_nopen_prev.info()"
   ]
  },
  {
   "cell_type": "markdown",
   "metadata": {},
   "source": [
    "## Now that the data is clean, we can try to run some different models on it"
   ]
  },
  {
   "cell_type": "code",
   "execution_count": 147,
   "metadata": {
    "collapsed": true
   },
   "outputs": [],
   "source": [
    "#scale each of the three sets with open\n",
    "scaler = StandardScaler() \n",
    "\n",
    "scaler.fit(data_nodate)\n",
    "scaled_df_noo = scaler.transform(data_nodate)\n",
    "\n",
    "scaler.fit(data_prev)\n",
    "scaled_prevo = scaler.transform(data_prev)"
   ]
  },
  {
   "cell_type": "code",
   "execution_count": 148,
   "metadata": {
    "collapsed": true
   },
   "outputs": [],
   "source": [
    "# break into test and training sets\n",
    "X_train1, X_test1, y_train1, y_test1 = train_test_split(scaled_df_noo, target, test_size=.2, random_state = 11)\n",
    "X_train2, X_test2, y_train2, y_test2 = train_test_split(scaled_prevo, target, test_size=.2, random_state = 11)"
   ]
  },
  {
   "cell_type": "code",
   "execution_count": 149,
   "metadata": {
    "collapsed": true
   },
   "outputs": [],
   "source": [
    "#plot_learning_curve(clf, \"Learning Curve\", X_train, y_train, cv=5)"
   ]
  },
  {
   "cell_type": "code",
   "execution_count": 150,
   "metadata": {},
   "outputs": [
    {
     "name": "stdout",
     "output_type": "stream",
     "text": [
      "Train MSE: 0.6975927006156463\n",
      "Test MSE: 0.6147122494261432\n"
     ]
    }
   ],
   "source": [
    "# elastic net without dates\n",
    "clf = ElasticNetCV(l1_ratio=[.1, .3, .5, .7, .8, .9, .95, .99, 1], alphas= [.1, 1, 5, 10], cv=5) #basic Elastic Net with CV\n",
    "clf.fit(X_train1, y_train1)\n",
    "train_predictions = clf.predict(X_train1)\n",
    "test_predictions = clf.predict(X_test1)\n",
    "print(\"Train MSE: {}\".format(mean_squared_error(y_train1, train_predictions)))\n",
    "print(\"Test MSE: {}\".format(mean_squared_error(y_test1, test_predictions)))"
   ]
  },
  {
   "cell_type": "code",
   "execution_count": 151,
   "metadata": {},
   "outputs": [
    {
     "data": {
      "text/plain": [
       "[('NUM_NEG', -0.0),\n",
       " ('NUM_NEU', -0.0),\n",
       " ('NUM_POS', 0.0),\n",
       " ('TW', -0.0),\n",
       " ('weekend', 0.0),\n",
       " ('NUM_NEG1', 0.0),\n",
       " ('NUM_NEG2', 0.0),\n",
       " ('NUM_NEG3', 0.0),\n",
       " ('NUM_NEU1', -0.0),\n",
       " ('NUM_NEU2', -0.0),\n",
       " ('NUM_NEU3', -0.0),\n",
       " ('NUM_POS1', 0.0),\n",
       " ('NUM_POS2', 0.0),\n",
       " ('NUM_POS3', 0.0),\n",
       " ('TW1', -0.0),\n",
       " ('TW2', 0.0),\n",
       " ('TW3', -0.0),\n",
       " ('CLOSE2', 0.0),\n",
       " ('AXP', -0.0),\n",
       " ('BA', 0.0),\n",
       " ('CAT', 0.0),\n",
       " ('CSCO', -0.0),\n",
       " ('CVX', 0.0),\n",
       " ('DD', -0.0),\n",
       " ('DIS', -0.0),\n",
       " ('GE', -0.0),\n",
       " ('GS', 0.0),\n",
       " ('HD', -0.0),\n",
       " ('IBM', 0.0),\n",
       " ('INTC', -0.0),\n",
       " ('JNJ', 0.0),\n",
       " ('JPM', -0.0),\n",
       " ('KO', -0.0),\n",
       " ('MCD', 0.0),\n",
       " ('MMM', 0.0),\n",
       " ('MRK', -0.0),\n",
       " ('MSFT', -0.0),\n",
       " ('NKE', -0.0),\n",
       " ('PFE', -0.0),\n",
       " ('PG', -0.0),\n",
       " ('T', -0.0),\n",
       " ('TRV', 0.0),\n",
       " ('UNH', 0.0),\n",
       " ('UTX', -0.0),\n",
       " ('V', 0.0),\n",
       " ('VZ', -0.0),\n",
       " ('WMT', -0.0),\n",
       " ('XOM', 0.0),\n",
       " ('NUM_NEG1_PER', -0.0),\n",
       " ('NUM_NEG2_PER', 0.0),\n",
       " ('NUM_NEG3_PER', 0.0),\n",
       " ('NUM_NEU_PER', -0.0),\n",
       " ('NUM_NEU1_PER', 0.0),\n",
       " ('NUM_NEU2_PER', -0.0),\n",
       " ('NUM_NEU3_PER', -0.0),\n",
       " ('NUM_POS_PER', 0.0),\n",
       " ('NUM_POS1_PER', -0.0),\n",
       " ('NUM_POS2_PER', 0.0),\n",
       " ('NUM_POS3_PER', 0.0),\n",
       " ('day_Friday', 0.0),\n",
       " ('day_Monday', 0.0),\n",
       " ('day_Thursday', -0.0),\n",
       " ('day_Tuesday', -0.0),\n",
       " ('day_Wednesday', 0.0),\n",
       " ('CLOSE3', 0.00010518804593296828),\n",
       " ('CLOSE1', 0.0009781409480861133),\n",
       " ('NUM_NEG_PER', -0.017464415453367823),\n",
       " ('OPEN', 45.74861085962495)]"
      ]
     },
     "execution_count": 151,
     "metadata": {},
     "output_type": "execute_result"
    }
   ],
   "source": [
    "# showing values assigned to every variable in the elastic net\n",
    "sorted(list(zip(data_nodate, clf.coef_)), key=lambda x: abs(x[1]))"
   ]
  },
  {
   "cell_type": "code",
   "execution_count": 152,
   "metadata": {},
   "outputs": [
    {
     "name": "stdout",
     "output_type": "stream",
     "text": [
      "Train MSE: 0.7016509280024095\n",
      "Test MSE: 0.6184034738226846\n"
     ]
    }
   ],
   "source": [
    "# elastic net without today's data\n",
    "clf = ElasticNetCV(l1_ratio=[.1, .3, .5, .7, .8, .9, .95, .99, 1], alphas= [.1, 1, 5, 10], cv=5) #basic Elastic Net with CV\n",
    "clf.fit(X_train2, y_train2)\n",
    "train_predictions = clf.predict(X_train2)\n",
    "test_predictions = clf.predict(X_test2)\n",
    "print(\"Train MSE: {}\".format(mean_squared_error(y_train2, train_predictions)))\n",
    "print(\"Test MSE: {}\".format(mean_squared_error(y_test2, test_predictions)))"
   ]
  },
  {
   "cell_type": "code",
   "execution_count": 153,
   "metadata": {},
   "outputs": [
    {
     "data": {
      "text/plain": [
       "[('weekend', 0.0),\n",
       " ('NUM_NEG1', -0.0),\n",
       " ('NUM_NEG2', 0.0),\n",
       " ('NUM_NEG3', -0.0),\n",
       " ('NUM_NEU1', -0.0),\n",
       " ('NUM_NEU2', -0.0),\n",
       " ('NUM_NEU3', -0.0),\n",
       " ('NUM_POS1', 0.0),\n",
       " ('NUM_POS2', 0.0),\n",
       " ('NUM_POS3', 0.0),\n",
       " ('TW1', -0.0),\n",
       " ('TW2', -0.0),\n",
       " ('TW3', -0.0),\n",
       " ('CLOSE2', 0.0),\n",
       " ('AXP', -0.0),\n",
       " ('BA', 0.0),\n",
       " ('CAT', 0.0),\n",
       " ('CSCO', -0.0),\n",
       " ('CVX', 0.0),\n",
       " ('DD', -0.0),\n",
       " ('DIS', -0.0),\n",
       " ('GE', -0.0),\n",
       " ('GS', 0.0),\n",
       " ('HD', -0.0),\n",
       " ('IBM', 0.0),\n",
       " ('INTC', -0.0),\n",
       " ('JNJ', 0.0),\n",
       " ('JPM', -0.0),\n",
       " ('KO', -0.0),\n",
       " ('MCD', 0.0),\n",
       " ('MMM', 0.0),\n",
       " ('MRK', -0.0),\n",
       " ('MSFT', -0.0),\n",
       " ('NKE', -0.0),\n",
       " ('PFE', -0.0),\n",
       " ('PG', -0.0),\n",
       " ('T', -0.0),\n",
       " ('TRV', 0.0),\n",
       " ('UNH', 0.0),\n",
       " ('UTX', -0.0),\n",
       " ('V', 0.0),\n",
       " ('VZ', -0.0),\n",
       " ('WMT', -0.0),\n",
       " ('XOM', 0.0),\n",
       " ('NUM_NEG1_PER', -0.0),\n",
       " ('NUM_NEG2_PER', 0.0),\n",
       " ('NUM_NEG3_PER', 0.0),\n",
       " ('NUM_NEU1_PER', 0.0),\n",
       " ('NUM_NEU2_PER', -0.0),\n",
       " ('NUM_NEU3_PER', -0.0),\n",
       " ('NUM_POS1_PER', 0.0),\n",
       " ('NUM_POS2_PER', 0.0),\n",
       " ('NUM_POS3_PER', 0.0),\n",
       " ('day_Friday', 0.0),\n",
       " ('day_Monday', 0.0),\n",
       " ('day_Thursday', -0.0),\n",
       " ('day_Tuesday', -0.0),\n",
       " ('day_Wednesday', 0.0),\n",
       " ('CLOSE3', 5.1750993891675995e-05),\n",
       " ('CLOSE1', 0.0009427073220183619),\n",
       " ('OPEN', 45.74740771063074)]"
      ]
     },
     "execution_count": 153,
     "metadata": {},
     "output_type": "execute_result"
    }
   ],
   "source": [
    "# shows significance assigned to each variable in the elastic net model\n",
    "sorted(list(zip(data_prev, clf.coef_)), key=lambda x: abs(x[1]))"
   ]
  },
  {
   "cell_type": "code",
   "execution_count": 154,
   "metadata": {
    "collapsed": true
   },
   "outputs": [],
   "source": [
    "# scale the dataset wihtout opening prices\n",
    "scaler.fit(data_nopen_date)\n",
    "scaled_df_non = scaler.transform(data_nopen_date)\n",
    "\n",
    "scaler.fit(data_nopen_prev)\n",
    "scaled_prevn = scaler.transform(data_nopen_prev)"
   ]
  },
  {
   "cell_type": "code",
   "execution_count": 155,
   "metadata": {
    "collapsed": true
   },
   "outputs": [],
   "source": [
    "# create training sets\n",
    "X_train4, X_test4, y_train4, y_test4 = train_test_split(scaled_df_non, target, test_size=.2, random_state = 11)\n",
    "X_train5, X_test5, y_train5, y_test5 = train_test_split(scaled_prevn, target, test_size=.2, random_state = 11)"
   ]
  },
  {
   "cell_type": "code",
   "execution_count": 156,
   "metadata": {},
   "outputs": [
    {
     "name": "stdout",
     "output_type": "stream",
     "text": [
      "Train MSE: 0.9258320276420248\n",
      "Test MSE: 0.9284107449636377\n",
      "[('NUM_NEG', -0.0), ('NUM_NEU', -0.0), ('NUM_POS', 0.0), ('TW', -0.0), ('weekend', 0.0), ('NUM_NEG1', -0.0), ('NUM_NEG2', 0.0), ('NUM_NEG3', 0.0), ('NUM_NEU1', -0.0), ('NUM_NEU2', -0.0), ('NUM_NEU3', -0.0), ('NUM_POS1', -0.0), ('NUM_POS2', 0.0), ('NUM_POS3', 0.0), ('TW1', -0.0), ('TW2', -0.0), ('TW3', -0.0), ('AXP', -0.0), ('BA', 0.0), ('CAT', 0.0), ('CSCO', -0.0), ('CVX', 0.0), ('DD', -0.0), ('DIS', -0.0), ('GE', -0.0), ('GS', 0.0), ('HD', -0.0), ('IBM', 0.0), ('INTC', -0.0), ('JNJ', 0.0), ('JPM', 0.0), ('KO', -0.0), ('MCD', 0.0), ('MMM', 0.0), ('MRK', -0.0), ('MSFT', -0.0), ('NKE', -0.0), ('PFE', -0.0), ('PG', -0.0), ('T', -0.0), ('TRV', 0.0), ('UNH', -0.0), ('UTX', -0.0), ('V', 0.0), ('VZ', -0.0), ('WMT', 0.0), ('XOM', -0.0), ('NUM_NEG1_PER', 0.0), ('NUM_NEG2_PER', 0.0), ('NUM_NEG3_PER', 0.0), ('NUM_NEU_PER', -0.0), ('NUM_NEU1_PER', 0.0), ('NUM_NEU2_PER', -0.0), ('NUM_NEU3_PER', -0.0), ('NUM_POS1_PER', -0.0), ('NUM_POS2_PER', 0.0), ('NUM_POS3_PER', 0.0), ('day_Friday', 0.0), ('day_Monday', 0.0), ('day_Thursday', -0.0), ('day_Tuesday', 0.0), ('day_Wednesday', -0.0), ('CLOSE3', 0.0012846336047228862), ('CLOSE2', 0.003066900537554512), ('NUM_POS_PER', 0.05358036803609073), ('NUM_NEG_PER', -0.09935676229399229), ('CLOSE1', 45.750913596246946)]\n"
     ]
    }
   ],
   "source": [
    "# Running the Elastic net with no dates\n",
    "clf = ElasticNetCV(l1_ratio=[.1, .3, .5, .7, .8, .9, .95, .99, 1], alphas= [.1, 1, 5, 10], cv=5) #basic Elastic Net with CV\n",
    "clf.fit(X_train4, y_train4)\n",
    "train_predictions = clf.predict(X_train4)\n",
    "test_predictions = clf.predict(X_test4)\n",
    "print(\"Train MSE: {}\".format(mean_squared_error(y_train4, train_predictions)))\n",
    "print(\"Test MSE: {}\".format(mean_squared_error(y_test4, test_predictions)))\n",
    "print(sorted(list(zip(data_nopen_date, clf.coef_)), key=lambda x: abs(x[1])))"
   ]
  },
  {
   "cell_type": "code",
   "execution_count": 157,
   "metadata": {
    "scrolled": true
   },
   "outputs": [
    {
     "name": "stdout",
     "output_type": "stream",
     "text": [
      "Train MSE: 0.9726292029699234\n",
      "Test MSE: 0.9722017680023588\n",
      "[('weekend', 0.0), ('NUM_NEG1', -0.0), ('NUM_NEG2', -0.0), ('NUM_NEG3', -0.0), ('NUM_NEU1', -0.0), ('NUM_NEU2', -0.0), ('NUM_NEU3', -0.0), ('NUM_POS1', 0.0), ('NUM_POS2', 0.0), ('NUM_POS3', 0.0), ('TW1', -0.0), ('TW2', -0.0), ('TW3', -0.0), ('AXP', 0.0), ('BA', 0.0), ('CAT', 0.0), ('CSCO', -0.0), ('CVX', 0.0), ('DD', -0.0), ('DIS', 0.0), ('GE', -0.0), ('GS', 0.0), ('HD', 0.0), ('IBM', 0.0), ('INTC', -0.0), ('JNJ', 0.0), ('JPM', -0.0), ('KO', -0.0), ('MCD', -0.0), ('MMM', 0.0), ('MRK', -0.0), ('MSFT', -0.0), ('NKE', 0.0), ('PFE', -0.0), ('PG', -0.0), ('T', -0.0), ('TRV', 0.0), ('UNH', 0.0), ('UTX', -0.0), ('V', 0.0), ('VZ', -0.0), ('WMT', -0.0), ('XOM', -0.0), ('NUM_NEG1_PER', -0.0), ('NUM_NEG2_PER', -0.0), ('NUM_NEG3_PER', 0.0), ('NUM_NEU1_PER', 0.0), ('NUM_NEU2_PER', -0.0), ('NUM_NEU3_PER', -0.0), ('NUM_POS1_PER', 0.0), ('NUM_POS2_PER', 0.0), ('NUM_POS3_PER', 0.0), ('day_Friday', 0.0), ('day_Monday', 0.0), ('day_Thursday', -0.0), ('day_Tuesday', 0.0), ('day_Wednesday', -0.0), ('CLOSE3', 0.00085934530188519), ('CLOSE2', 0.0011311188634523632), ('CLOSE1', 45.74671760703851)]\n"
     ]
    }
   ],
   "source": [
    "# elastic net without anything from the day being predicted\n",
    "clf = ElasticNetCV(l1_ratio=[.1, .3, .5, .7, .8, .9, .95, .99, 1], alphas= [.1, 1, 5, 10], cv=5) #basic Elastic Net with CV\n",
    "clf.fit(X_train5, y_train5)\n",
    "train_predictions = clf.predict(X_train5)\n",
    "test_predictions = clf.predict(X_test5)\n",
    "print(\"Train MSE: {}\".format(mean_squared_error(y_train5, train_predictions)))\n",
    "print(\"Test MSE: {}\".format(mean_squared_error(y_test5, test_predictions)))\n",
    "print(sorted(list(zip(data_nopen_prev, clf.coef_)), key=lambda x: abs(x[1])))"
   ]
  },
  {
   "cell_type": "markdown",
   "metadata": {},
   "source": [
    "### Preliminary Results\n",
    "As we see it isn't very interesting to use the data in an elastic net to predict future prices because it ends up that the only thing you want to know is what the opening price/yesterday's price is, and then how people were tweeting the day of (possibly after closing). \n",
    "\n",
    "### Refining our analysis\n",
    "Lets change up our methodology a bit. We will instead try to predict if tweets can forecast if the stock is going to go up or down. The \"previous\" data is the most important sort here."
   ]
  },
  {
   "cell_type": "code",
   "execution_count": 158,
   "metadata": {
    "collapsed": true
   },
   "outputs": [],
   "source": [
    "# importing Machine Learning libraries\n",
    "from sklearn.neighbors import KNeighborsClassifier\n",
    "# importing different Bayesian models\n",
    "from sklearn.naive_bayes import MultinomialNB, ComplementNB, GaussianNB \n",
    "# importing support vector machine\n",
    "from sklearn.svm import SVC \n",
    "from sklearn.tree import DecisionTreeClassifier\n",
    "# importing some ensemble models we might want to use\n",
    "from sklearn.ensemble import RandomForestClassifier, GradientBoostingClassifier, AdaBoostClassifier \n",
    "\n",
    "# importing GridSearchCV to do some cross validation\n",
    "from sklearn.model_selection import GridSearchCV \n",
    "\n",
    "# importing libraries to measure metrics\n",
    "#different ways of scoring\n",
    "from sklearn.metrics import accuracy_score, f1_score, mean_squared_error \n",
    "# classification report\n",
    "from sklearn.metrics import classification_report \n",
    "# confusion matrix\n",
    "from sklearn.metrics import confusion_matrix \n",
    "from sklearn.metrics import precision_recall_fscore_support\n",
    "from sklearn.metrics import precision_recall_curve, average_precision_score\n",
    "from sklearn.metrics import roc_curve, auc"
   ]
  },
  {
   "cell_type": "code",
   "execution_count": 159,
   "metadata": {
    "collapsed": true
   },
   "outputs": [],
   "source": [
    "# create training sets from the previous day data (with and without OPEN)\n",
    "X_traincO, X_testcO, y_traincO, y_testcO = train_test_split(scaled_prevo, target_class, test_size=.2, random_state = 11)\n",
    "X_trainc, X_testc, y_trainc, y_testc = train_test_split(scaled_prevn, target_class, test_size=.2, random_state = 11)"
   ]
  },
  {
   "cell_type": "code",
   "execution_count": 160,
   "metadata": {},
   "outputs": [
    {
     "name": "stdout",
     "output_type": "stream",
     "text": [
      "Best Params: {'n_neighbors': 11, 'p': 2, 'weights': 'uniform'}\n",
      "Train F1: [0.65745856 0.49035235 0.41751746]\n",
      "Test Classification Report:\n",
      "              precision    recall  f1-score   support\n",
      "\n",
      "         0.0       0.52      0.65      0.58       801\n",
      "         1.0       0.40      0.38      0.39       630\n",
      "         2.0       0.32      0.22      0.26       536\n",
      "\n",
      "   micro avg       0.45      0.45      0.45      1967\n",
      "   macro avg       0.41      0.42      0.41      1967\n",
      "weighted avg       0.43      0.45      0.43      1967\n",
      "\n",
      "Train Accuracy: 0.5500317863954227\tTest accuracy: 0.44636502287747837\n"
     ]
    }
   ],
   "source": [
    "# K Nearest Neighbors with open\n",
    "knn = KNeighborsClassifier()\n",
    "gridsearch = GridSearchCV(knn, {\"n_neighbors\": [5, 7, 9, 11], \"weights\": ['uniform', 'distance'], \n",
    "                                'p': [1, 2, 3]}, scoring='f1_micro', cv=3)\n",
    "gridsearch.fit(X_traincO, y_traincO)\n",
    "print(\"Best Params: {}\".format(gridsearch.best_params_))\n",
    "y_pred_train = gridsearch.predict(X_traincO)\n",
    "print(\"Train F1: {}\".format(f1_score(y_traincO, y_pred_train, average=None)))\n",
    "print(\"Test Classification Report:\")\n",
    "y_pred_test = gridsearch.predict(X_testcO)\n",
    "print(classification_report(y_testcO, y_pred_test))\n",
    "print(\"Train Accuracy: {}\\tTest accuracy: {}\".format(accuracy_score(y_traincO, y_pred_train),\n",
    "                                                     accuracy_score(y_testcO, y_pred_test)))"
   ]
  },
  {
   "cell_type": "code",
   "execution_count": 161,
   "metadata": {},
   "outputs": [
    {
     "data": {
      "text/plain": [
       "array([[518, 178, 105],\n",
       "       [247, 242, 141],\n",
       "       [228, 190, 118]])"
      ]
     },
     "execution_count": 161,
     "metadata": {},
     "output_type": "execute_result"
    }
   ],
   "source": [
    "# confusion matrix to evaluate performance\n",
    "confusion_matrix(y_testcO, y_pred_test)"
   ]
  },
  {
   "cell_type": "code",
   "execution_count": 162,
   "metadata": {},
   "outputs": [
    {
     "name": "stdout",
     "output_type": "stream",
     "text": [
      "Best Params: {'n_neighbors': 11, 'p': 2, 'weights': 'uniform'}\n",
      "Train F1: [0.65819638 0.49245599 0.41861716]\n",
      "Test Classification Report:\n",
      "              precision    recall  f1-score   support\n",
      "\n",
      "         0.0       0.52      0.65      0.58       801\n",
      "         1.0       0.40      0.39      0.39       630\n",
      "         2.0       0.32      0.22      0.26       536\n",
      "\n",
      "   micro avg       0.45      0.45      0.45      1967\n",
      "   macro avg       0.41      0.42      0.41      1967\n",
      "weighted avg       0.43      0.45      0.43      1967\n",
      "\n",
      "Train Accuracy: 0.5513032422123331\tTest accuracy: 0.44687341128622265\n",
      "[[517 178 106]\n",
      " [243 245 142]\n",
      " [228 191 117]]\n"
     ]
    }
   ],
   "source": [
    "# K Nearest Neighbors without open\n",
    "knn = KNeighborsClassifier()\n",
    "gridsearch = GridSearchCV(knn, {\"n_neighbors\": [5, 7, 9, 11], \"weights\": ['uniform', 'distance'], \n",
    "                                'p': [1, 2, 3]}, scoring='f1_micro', cv=3)\n",
    "gridsearch.fit(X_trainc, y_trainc)\n",
    "print(\"Best Params: {}\".format(gridsearch.best_params_))\n",
    "y_pred_train = gridsearch.predict(X_trainc)\n",
    "print(\"Train F1: {}\".format(f1_score(y_trainc, y_pred_train, average=None)))\n",
    "print(\"Test Classification Report:\")\n",
    "y_pred_test = gridsearch.predict(X_testc)\n",
    "print(classification_report(y_testc, y_pred_test))\n",
    "print(\"Train Accuracy: {}\\tTest accuracy: {}\".format(accuracy_score(y_trainc, y_pred_train),\n",
    "                                                     accuracy_score(y_testc, y_pred_test)))\n",
    "print(confusion_matrix(y_testc, y_pred_test))"
   ]
  },
  {
   "cell_type": "markdown",
   "metadata": {},
   "source": [
    "## What Are We Learning Here?\n",
    "### First:\n",
    "So first of all this KNN model is overfitting, but not too much. Removing \"OPEN\" made it only marginally better (talking like 4 more in the second class and 1 less in the other classes) so that indicates that OPEN is not a driving force for this problem (unlike the basic prediction problem).\n",
    "\n",
    "### Second: \n",
    "It seems to mostly put things in the first class (no major change) which works okay but not great. It just guesses that there will not be a change in stock price and hopes for the best. It is really bad at predicting a drop in prices, so I'm not sure what is going on there, except that it probaly trained itself to mostly put things in the first class.\n",
    "\n",
    "### Next Steps:\n",
    "Next we'll try a random forest, since we can get feature importances from that which may give valuable information about what variables to keep and what ones to drop so that we stop overfitting the nearest neighbors. "
   ]
  },
  {
   "cell_type": "code",
   "execution_count": 163,
   "metadata": {},
   "outputs": [
    {
     "name": "stdout",
     "output_type": "stream",
     "text": [
      "Best Params: {'class_weight': 'balanced', 'max_depth': 11, 'max_features': 'sqrt', 'min_samples_leaf': 9, 'n_estimators': 100, 'random_state': 9}\n",
      "Train F1: [0.63246959 0.68599222 0.67032744]\n",
      "Test Classification Report:\n",
      "              precision    recall  f1-score   support\n",
      "\n",
      "         0.0       0.65      0.50      0.56       801\n",
      "         1.0       0.39      0.44      0.42       630\n",
      "         2.0       0.32      0.38      0.35       536\n",
      "\n",
      "   micro avg       0.45      0.45      0.45      1967\n",
      "   macro avg       0.45      0.44      0.44      1967\n",
      "weighted avg       0.48      0.45      0.46      1967\n",
      "\n",
      "Train Accuracy: 0.6617927527018436\tTest accuracy: 0.4489069649211998\n",
      "[[398 210 193]\n",
      " [104 279 247]\n",
      " [109 221 206]]\n"
     ]
    }
   ],
   "source": [
    "# RandomForestClassifier with Opening prices\n",
    "rfc = RandomForestClassifier()\n",
    "gridsearch = GridSearchCV(rfc, {\"n_estimators\": [20, 50, 100, 200, 500], \"max_depth\": [1, 3, 5, 7, 9, 11], \n",
    "                                 \"min_samples_leaf\": [3 , 5 , 7 , 9], \"max_features\": [None, 'sqrt', 'log2']\n",
    "                                , \"class_weight\": [\"balanced\", \"balanced_subsample\"], 'random_state': [9]}, \n",
    "                          scoring='f1_micro', cv=3)\n",
    "gridsearch.fit(X_traincO, y_traincO)\n",
    "print(\"Best Params: {}\".format(gridsearch.best_params_))\n",
    "y_pred_train = gridsearch.predict(X_traincO)\n",
    "print(\"Train F1: {}\".format(f1_score(y_traincO, y_pred_train, average=None)))\n",
    "print(\"Test Classification Report:\")\n",
    "y_pred_test = gridsearch.predict(X_testcO)\n",
    "print(classification_report(y_testcO, y_pred_test))\n",
    "print(\"Train Accuracy: {}\\tTest accuracy: {}\".format(accuracy_score(y_traincO, y_pred_train),\n",
    "                                                     accuracy_score(y_testcO, y_pred_test)))\n",
    "print(confusion_matrix(y_testcO, y_pred_test))"
   ]
  },
  {
   "cell_type": "code",
   "execution_count": 170,
   "metadata": {
    "collapsed": true
   },
   "outputs": [],
   "source": [
    "rfcb = RandomForestClassifier(n_estimators = 100, max_features='sqrt', min_samples_leaf=9, max_depth\n",
    "                             = 11, class_weight='balanced', random_state=9)\n",
    "rfcb.fit(X_traincO, y_traincO)\n",
    "feature_imp_rfc1 = sorted(list(zip(data_prev, rfcb.feature_importances_)), key=lambda x: x[1], reverse=True)"
   ]
  },
  {
   "cell_type": "code",
   "execution_count": 164,
   "metadata": {},
   "outputs": [
    {
     "name": "stdout",
     "output_type": "stream",
     "text": [
      "Best Params: {'class_weight': 'balanced', 'max_depth': 7, 'max_features': 'log2', 'min_samples_leaf': 9, 'n_estimators': 20, 'random_state': 9}\n",
      "Train F1: [0.58290386 0.51775148 0.4600639 ]\n",
      "Test Classification Report:\n",
      "              precision    recall  f1-score   support\n",
      "\n",
      "         0.0       0.67      0.50      0.57       801\n",
      "         1.0       0.39      0.46      0.42       630\n",
      "         2.0       0.30      0.35      0.32       536\n",
      "\n",
      "   micro avg       0.44      0.44      0.44      1967\n",
      "   macro avg       0.45      0.44      0.44      1967\n",
      "weighted avg       0.48      0.44      0.45      1967\n",
      "\n",
      "Train Accuracy: 0.5238397965670692\tTest accuracy: 0.44483985765124556\n",
      "[[398 212 191]\n",
      " [ 96 290 244]\n",
      " [ 99 250 187]]\n"
     ]
    }
   ],
   "source": [
    "# RandomForestClassifier without Opening prices\n",
    "rfc = RandomForestClassifier()\n",
    "\n",
    "gridsearch = GridSearchCV(rfc, {\"n_estimators\": [20, 50, 100, 200, 500], \"max_depth\": [1, 3, 5, 7, 9, 11], \n",
    "                                 \"min_samples_leaf\": [3 , 5 , 7 , 9], \"max_features\": [None, 'sqrt', 'log2']\n",
    "                                , \"class_weight\": [\"balanced\", \"balanced_subsample\"], 'random_state': [9]}, \n",
    "                          scoring='f1_micro', cv=3)\n",
    "gridsearch.fit(X_trainc, y_trainc)\n",
    "print(\"Best Params: {}\".format(gridsearch.best_params_))\n",
    "y_pred_train = gridsearch.predict(X_trainc)\n",
    "print(\"Train F1: {}\".format(f1_score(y_trainc, y_pred_train, average=None)))\n",
    "print(\"Test Classification Report:\")\n",
    "y_pred_test = gridsearch.predict(X_testc)\n",
    "print(classification_report(y_testc, y_pred_test))\n",
    "print(\"Train Accuracy: {}\\tTest accuracy: {}\".format(accuracy_score(y_trainc, y_pred_train),\n",
    "                                                     accuracy_score(y_testc, y_pred_test)))\n",
    "print(confusion_matrix(y_testc, y_pred_test))"
   ]
  },
  {
   "cell_type": "code",
   "execution_count": 172,
   "metadata": {
    "collapsed": true
   },
   "outputs": [],
   "source": [
    "rfcb2 = RandomForestClassifier(class_weight= 'balanced', max_depth= 7, max_features= 'log2', min_samples_leaf= 9, \n",
    "                               n_estimators= 20, random_state= 9)\n",
    "rfcb2.fit(X_trainc, y_trainc)\n",
    "feature_imp_rfc2 = sorted(list(zip(data_nopen_prev, rfcb2.feature_importances_)), key=lambda x: x[1], reverse=True)"
   ]
  },
  {
   "cell_type": "markdown",
   "metadata": {},
   "source": [
    "### Finding Important Features\n",
    "Now that we've run our Random Forest we can go ahead and find feature importance based off the Random Forest model. Below we use a set of functinos to extract the most important features and use that to guide further analysis."
   ]
  },
  {
   "cell_type": "code",
   "execution_count": 63,
   "metadata": {
    "collapsed": true
   },
   "outputs": [],
   "source": [
    "def key_extract(dic):\n",
    "    #turns the dictionary into a data frame\n",
    "    y = pd.DataFrame.from_dict(dic, orient='index') \n",
    "    # list of the names in the dataframe\n",
    "    y = y.index \n",
    "    return y\n",
    "\n",
    "# function to extract a list of features above a given sensitivty\n",
    "def feature_extract(data_frame, feature_importances, sensitivity): \n",
    "    #creates a dictionary from the model's feature importance\n",
    "    coef_dict = dict((zip(data_frame, feature_importances))) \n",
    "    # another dictionary\n",
    "    coef_list = {} \n",
    "    # runs through the zipped dictionary \n",
    "    for key in coef_dict: \n",
    "        # extracts value for the key\n",
    "        x = coef_dict.get(key) \n",
    "        # if the absolute value is bigger than the sensitivity\n",
    "        if abs(x) > sensitivity:  \n",
    "            # adds a new entry to the other dictionary\n",
    "            coef_list[key] = x  \n",
    "        # if the coefficient isn't big enough\n",
    "        else: \n",
    "            # move to the next key\n",
    "            pass \n",
    "    # uses a previous function I wrote to make a list of the names of those coeff    \n",
    "    coef_list = key_extract(coef_list) \n",
    "    # returns that list\n",
    "    return coef_list \n",
    "\n",
    "# creates a dictionary from a list of tuples using another list of names\n",
    "def best_feature_dict(list_, features_imp): \n",
    "    y = {}\n",
    "    for e in list_:\n",
    "        y[e] = dict(features_imp).get(e)\n",
    "    return y\n",
    "\n",
    "#plots the features importances\n",
    "def best_feature_plot(list_, features_imp, ticks=90): \n",
    "    y = best_feature_dict(list_, features_imp)\n",
    "    plt.bar(y.keys(),y.values())\n",
    "    plt.title(\"Feature Importance\")\n",
    "    plt.xticks(rotation=ticks)\n",
    "    plt.ylabel(\"Percent Used\")\n",
    "    plt.grid(True)\n",
    "    \n",
    "#combines these functions into one nice one    \n",
    "def features_full(data_frame, feature_importances, sensitivity): \n",
    "    x = feature_extract(data_frame, feature_importances, sensitivity)\n",
    "    z = sorted(list(zip(data_frame, feature_importances)), key=lambda x: x[1], reverse=True)\n",
    "    y = best_feature_plot(x, z)\n",
    "    return x, y"
   ]
  },
  {
   "cell_type": "code",
   "execution_count": 171,
   "metadata": {},
   "outputs": [
    {
     "data": {
      "image/png": "[encoded data removed]",
      "text/plain": [
       "<Figure size 432x288 with 1 Axes>"
      ]
     },
     "metadata": {},
     "output_type": "display_data"
    }
   ],
   "source": [
    "best_feat1, best_featplt1 = features_full(data_prev, rfcb.feature_importances_, .01)"
   ]
  },
  {
   "cell_type": "code",
   "execution_count": 173,
   "metadata": {},
   "outputs": [
    {
     "data": {
      "image/png": "[encoded data removed]",
      "text/plain": [
       "<Figure size 432x288 with 1 Axes>"
      ]
     },
     "metadata": {},
     "output_type": "display_data"
    }
   ],
   "source": [
    "best_feat2, best_featplt2 = features_full(data_nopen_prev,rfcb2.feature_importances_, .01)"
   ]
  },
  {
   "cell_type": "markdown",
   "metadata": {},
   "source": [
    "### Most Important Features - Findings\n",
    "Sentiments do indeed play a role in how these get classified, (though there is some weirdness because of the low number of estimators), however they are overshadowed by company level dummies and in the no-OPEN model, prior closing prices. They don't seem to be the best predictor of future price changes.\n",
    "\n",
    "### Next steps\n",
    "Next, we'll look at correlations between these higher importance features and then maybe mess with the data set a bit more to get a less overfitting k-nearest neighbors model (since that one is still working the best). Might try an SVM model too, since lower amounts of features helps a lot with that. \n",
    "\n",
    "Note: Having OPEN doesn't make a huge difference on the final outcome (makes it more predictive of stock rises at the expense of predicting stock drops), but it does greatly change the feature selection. "
   ]
  },
  {
   "cell_type": "code",
   "execution_count": 72,
   "metadata": {
    "collapsed": true
   },
   "outputs": [],
   "source": [
    "# function that will shows where there is high correlation\n",
    "def corr_extract(var, sensitivity): \n",
    "    #create a dictionary that will give the name and value\n",
    "    y = dict()\n",
    "    # set up the counter\n",
    "    count = 0 \n",
    "    for e in var:\n",
    "        #most common is lower correlation so I'll get rid of those first\n",
    "        if abs(e)<sensitivity:\n",
    "            #move to the next one\n",
    "            count = count + 1\n",
    "        # get rid of perfect correlation because that isn't very interesting    \n",
    "        elif abs(e)==1: \n",
    "            # move to the next one\n",
    "            count = count + 1\n",
    "        #extract the name from the series\n",
    "        else: \n",
    "            x = var.index[count] \n",
    "            #key: index, value: correlation\n",
    "            y[x] = e \n",
    "            # move to the next one\n",
    "            count = count + 1 \n",
    "    return y \n",
    "\n",
    "# for doing a correlation extract except iterated\n",
    "def i_corr_extract(list_corr, var, sensitivity): \n",
    "    for x in list_corr:\n",
    "        print(x)\n",
    "        print(corr_extract(var[x], sensitivity))\n",
    "        print()"
   ]
  },
  {
   "cell_type": "code",
   "execution_count": 176,
   "metadata": {},
   "outputs": [
    {
     "name": "stdout",
     "output_type": "stream",
     "text": [
      "OPEN\n",
      "{'CLOSE1': 0.9999240565411533, 'CLOSE2': 0.9997489786275865, 'CLOSE3': 0.9996257383812366}\n",
      "\n",
      "NUM_NEG1\n",
      "{'NUM_NEG2': 0.40072841075456983, 'NUM_NEU1': 0.4540088375986588, 'NUM_POS1': 0.30752673486346693, 'TW1': 0.584803115922343, 'NUM_NEG1_PER': 0.4612739230162242}\n",
      "\n",
      "NUM_NEG2\n",
      "{'NUM_NEG1': 0.40072841075456983, 'NUM_NEG3': 0.387206927586199, 'NUM_NEU2': 0.4623410762765261, 'NUM_POS2': 0.3071868598610671, 'TW2': 0.5793869416725591, 'NUM_NEG2_PER': 0.42461473067175104}\n",
      "\n",
      "NUM_NEG3\n",
      "{'NUM_NEG2': 0.387206927586199, 'NUM_NEU3': 0.4766778528103975, 'NUM_POS3': 0.30377998074337137, 'TW3': 0.6029951376875174, 'NUM_NEG3_PER': 0.39192386739009266}\n",
      "\n",
      "NUM_NEU1\n",
      "{'NUM_NEG1': 0.4540088375986588, 'NUM_NEU2': 0.5328602666418161, 'NUM_NEU3': 0.3239130478807166, 'NUM_POS1': 0.5071520464052924, 'NUM_POS2': 0.34792113249215706, 'TW1': 0.9601406667664477, 'TW2': 0.5375441563927669, 'TW3': 0.30425833237783845}\n",
      "\n",
      "NUM_NEU2\n",
      "{'NUM_NEG2': 0.4623410762765261, 'NUM_NEU1': 0.5328602666418161, 'NUM_NEU3': 0.5000011821424186, 'NUM_POS2': 0.4763893811395791, 'TW1': 0.5132559345595629, 'TW2': 0.9611576921349934, 'TW3': 0.4801772287308318}\n",
      "\n",
      "NUM_NEU3\n",
      "{'NUM_NEG3': 0.4766778528103975, 'NUM_NEU1': 0.3239130478807166, 'NUM_NEU2': 0.5000011821424186, 'NUM_POS3': 0.5128872634012903, 'TW1': 0.30499975090728154, 'TW2': 0.48010317956061843, 'TW3': 0.9579456706224859}\n",
      "\n",
      "NUM_POS1\n",
      "{'NUM_NEG1': 0.30752673486346693, 'NUM_NEU1': 0.5071520464052924, 'NUM_POS2': 0.3409450236473794, 'TW1': 0.6935626863861732, 'TW2': 0.3247507710761385, 'NUM_POS1_PER': 0.33404868668962123}\n",
      "\n",
      "NUM_POS2\n",
      "{'NUM_NEG2': 0.3071868598610671, 'NUM_NEU1': 0.34792113249215706, 'NUM_NEU2': 0.4763893811395791, 'NUM_POS1': 0.3409450236473794, 'TW1': 0.37749103878667484, 'TW2': 0.673954586761564, 'NUM_POS2_PER': 0.3122505426317363}\n",
      "\n",
      "NUM_POS3\n",
      "{'NUM_NEG3': 0.30377998074337137, 'NUM_NEU3': 0.5128872634012903, 'TW2': 0.3121728412858614, 'TW3': 0.7025558944803271}\n",
      "\n",
      "TW1\n",
      "{'NUM_NEG1': 0.584803115922343, 'NUM_NEU1': 0.9601406667664477, 'NUM_NEU2': 0.5132559345595629, 'NUM_NEU3': 0.30499975090728154, 'NUM_POS1': 0.6935626863861732, 'NUM_POS2': 0.37749103878667484, 'TW2': 0.5366253653974549}\n",
      "\n",
      "TW2\n",
      "{'NUM_NEG2': 0.5793869416725591, 'NUM_NEU1': 0.5375441563927669, 'NUM_NEU2': 0.9611576921349934, 'NUM_NEU3': 0.48010317956061843, 'NUM_POS1': 0.3247507710761385, 'NUM_POS2': 0.673954586761564, 'NUM_POS3': 0.3121728412858614, 'TW1': 0.5366253653974549, 'TW3': 0.4790832476878278}\n",
      "\n",
      "TW3\n",
      "{'NUM_NEG3': 0.6029951376875174, 'NUM_NEU1': 0.30425833237783845, 'NUM_NEU2': 0.4801772287308318, 'NUM_NEU3': 0.9579456706224859, 'NUM_POS3': 0.7025558944803271, 'TW2': 0.4790832476878278}\n",
      "\n",
      "CLOSE1\n",
      "{'OPEN': 0.9999240565411533, 'CLOSE2': 0.9998198732117823, 'CLOSE3': 0.999701325145199}\n",
      "\n",
      "CLOSE2\n",
      "{'OPEN': 0.9997489786275865, 'CLOSE1': 0.9998198732117823, 'CLOSE3': 0.999875550815534}\n",
      "\n",
      "CLOSE3\n",
      "{'OPEN': 0.9996257383812366, 'CLOSE1': 0.999701325145199, 'CLOSE2': 0.999875550815534}\n",
      "\n",
      "CSCO\n",
      "{}\n",
      "\n",
      "GE\n",
      "{}\n",
      "\n",
      "NUM_NEG1_PER\n",
      "{'NUM_NEG1': 0.4612739230162242, 'NUM_NEG2_PER': 0.3237776618251944, 'NUM_NEU1_PER': -0.4913306137047581}\n",
      "\n",
      "NUM_NEG2_PER\n",
      "{'NUM_NEG2': 0.42461473067175104, 'NUM_NEG1_PER': 0.3237776618251944, 'NUM_NEG3_PER': 0.3167843139913862, 'NUM_NEU2_PER': -0.49418765420491867}\n",
      "\n",
      "NUM_NEG3_PER\n",
      "{'NUM_NEG3': 0.39192386739009266, 'NUM_NEG2_PER': 0.3167843139913862, 'NUM_NEU3_PER': -0.4916131678306075}\n",
      "\n",
      "NUM_NEU1_PER\n",
      "{'NUM_NEG1_PER': -0.4913306137047581, 'NUM_POS1_PER': -0.7797080980770543}\n",
      "\n",
      "NUM_NEU2_PER\n",
      "{'NUM_NEG2_PER': -0.49418765420491867, 'NUM_POS2_PER': -0.7900573957968738}\n",
      "\n",
      "NUM_NEU3_PER\n",
      "{'NUM_NEG3_PER': -0.4916131678306075, 'NUM_POS3_PER': -0.7922883877589932}\n",
      "\n",
      "NUM_POS1_PER\n",
      "{'NUM_POS1': 0.33404868668962123, 'NUM_NEU1_PER': -0.7797080980770543}\n",
      "\n",
      "NUM_POS2_PER\n",
      "{'NUM_POS2': 0.3122505426317363, 'NUM_NEU2_PER': -0.7900573957968738}\n",
      "\n",
      "NUM_POS3_PER\n",
      "{'NUM_NEU3_PER': -0.7922883877589932}\n",
      "\n"
     ]
    }
   ],
   "source": [
    "# print out all our strongest correlations\n",
    "feature_corr = data_prev[best_feat2].corr()\n",
    "i_corr_extract(best_feat2, feature_corr, .3)"
   ]
  },
  {
   "cell_type": "markdown",
   "metadata": {},
   "source": [
    "## Strongest Correlations\n",
    "Most of these correlations are quite obvious. Percentages of positive/negative/neutral tweets are correlated with the number of each type of tweet that day and the number of any type of tweet on a given day is correlated with the other numbers. \n",
    "\n",
    "I might just drop all the numbers and reduce down to a pure percentage model, even though the correlation isn't super strong. The pure number of tweets on a given day is not correlated with the percentages though, so I think I'll leave those in as a sort of control. \n",
    "\n",
    "Unsurprisingly, the closing prices are very very very correlated with each other. I think I'll drop the numbers and then re-run the model to see how it goes."
   ]
  },
  {
   "cell_type": "code",
   "execution_count": 165,
   "metadata": {
    "collapsed": true
   },
   "outputs": [],
   "source": [
    "sentiments_prev = []\n",
    "for e in sentiments:\n",
    "    if e.endswith('1'):\n",
    "        sentiments_prev.append(e)\n",
    "    elif e.endswith('2'):\n",
    "        sentiments_prev.append(e)\n",
    "    elif e.endswith('3'):\n",
    "        sentiments_prev.append(e)\n",
    "    else:\n",
    "        pass"
   ]
  },
  {
   "cell_type": "code",
   "execution_count": 184,
   "metadata": {
    "collapsed": true
   },
   "outputs": [],
   "source": [
    "# dropping the numbers\n",
    "data_prev_per = data_prev.drop(columns=sentiments_prev)\n",
    "data_noprev_per = data_nopen_prev.drop(columns=sentiments_prev)"
   ]
  },
  {
   "cell_type": "code",
   "execution_count": 185,
   "metadata": {
    "collapsed": true
   },
   "outputs": [],
   "source": [
    "# scaling the data\n",
    "scaler.fit(data_prev_per)\n",
    "scaled_prevperO = scaler.transform(data_prev_per)\n",
    "\n",
    "scaler.fit(data_noprev_per)\n",
    "scaled_prevper = scaler.transform(data_noprev_per)\n",
    "\n",
    "X_trainPO, X_testPO, y_trainPO, y_testPO = train_test_split(scaled_prevperO, target_class, test_size=.2, random_state = 11)\n",
    "X_trainP, X_testP, y_trainP, y_testP = train_test_split(scaled_prevper, target_class, test_size=.2, random_state = 11)"
   ]
  },
  {
   "cell_type": "markdown",
   "metadata": {},
   "source": [
    "## Running KNN Again:"
   ]
  },
  {
   "cell_type": "code",
   "execution_count": 186,
   "metadata": {},
   "outputs": [
    {
     "name": "stdout",
     "output_type": "stream",
     "text": [
      "Best Params: {'n_neighbors': 11, 'p': 2, 'weights': 'uniform'}\n",
      "Train F1: [0.65829423 0.49152188 0.41003507]\n",
      "Test Classification Report:\n",
      "              precision    recall  f1-score   support\n",
      "\n",
      "         0.0       0.53      0.64      0.58       801\n",
      "         1.0       0.40      0.40      0.40       630\n",
      "         2.0       0.30      0.21      0.25       536\n",
      "\n",
      "   micro avg       0.45      0.45      0.45      1967\n",
      "   macro avg       0.41      0.42      0.41      1967\n",
      "weighted avg       0.43      0.45      0.43      1967\n",
      "\n",
      "Train Accuracy: 0.5491417673235856\tTest accuracy: 0.44534824605998985\n",
      "[[511 175 115]\n",
      " [235 252 143]\n",
      " [220 203 113]]\n"
     ]
    }
   ],
   "source": [
    "# K Nearest Neighbors with open raw numbers dropped\n",
    "knn = KNeighborsClassifier()\n",
    "gridsearch = GridSearchCV(knn, {\"n_neighbors\": [5, 7, 9, 11], \"weights\": ['uniform', 'distance'], \n",
    "                                'p': [1, 2, 3]}, scoring='f1_micro', cv=3)\n",
    "gridsearch.fit(X_trainPO, y_trainPO)\n",
    "print(\"Best Params: {}\".format(gridsearch.best_params_))\n",
    "y_pred_train = gridsearch.predict(X_trainPO)\n",
    "print(\"Train F1: {}\".format(f1_score(y_trainPO, y_pred_train, average=None)))\n",
    "print(\"Test Classification Report:\")\n",
    "y_pred_test = gridsearch.predict(X_testPO)\n",
    "print(classification_report(y_testPO, y_pred_test))\n",
    "print(\"Train Accuracy: {}\\tTest accuracy: {}\".format(accuracy_score(y_trainPO, y_pred_train),\n",
    "                                                     accuracy_score(y_testPO, y_pred_test)))\n",
    "print(confusion_matrix(y_testPO, y_pred_test))"
   ]
  },
  {
   "cell_type": "code",
   "execution_count": 168,
   "metadata": {},
   "outputs": [
    {
     "name": "stdout",
     "output_type": "stream",
     "text": [
      "Best Params: {'n_neighbors': 11, 'p': 1, 'weights': 'uniform'}\n",
      "Train F1: [0.66867141 0.49181722 0.40064707]\n",
      "Test Classification Report:\n",
      "              precision    recall  f1-score   support\n",
      "\n",
      "         0.0       0.53      0.66      0.59       801\n",
      "         1.0       0.40      0.38      0.39       630\n",
      "         2.0       0.30      0.21      0.24       536\n",
      "\n",
      "   micro avg       0.45      0.45      0.45      1967\n",
      "   macro avg       0.41      0.42      0.41      1967\n",
      "weighted avg       0.43      0.45      0.43      1967\n",
      "\n",
      "Train Accuracy: 0.5525746980292435\tTest accuracy: 0.44687341128622265\n",
      "[[528 164 109]\n",
      " [239 241 150]\n",
      " [226 200 110]]\n"
     ]
    }
   ],
   "source": [
    "# K Nearest Neighbors without open raw numbers dropped\n",
    "knn = KNeighborsClassifier()\n",
    "gridsearch = GridSearchCV(knn, {\"n_neighbors\": [5, 7, 9, 11], \"weights\": ['uniform', 'distance'], \n",
    "                                'p': [1, 2, 3]}, scoring='f1_micro', cv=3)\n",
    "gridsearch.fit(X_trainP, y_trainP)\n",
    "print(\"Best Params: {}\".format(gridsearch.best_params_))\n",
    "y_pred_train = gridsearch.predict(X_trainP)\n",
    "print(\"Train F1: {}\".format(f1_score(y_trainP, y_pred_train, average=None)))\n",
    "print(\"Test Classification Report:\")\n",
    "y_pred_test = gridsearch.predict(X_testP)\n",
    "print(classification_report(y_testP, y_pred_test))\n",
    "print(\"Train Accuracy: {}\\tTest accuracy: {}\".format(accuracy_score(y_trainP, y_pred_train),\n",
    "                                                     accuracy_score(y_testP, y_pred_test)))\n",
    "print(confusion_matrix(y_testP, y_pred_test))"
   ]
  },
  {
   "cell_type": "markdown",
   "metadata": {},
   "source": [
    "## Running Random Forest Again:"
   ]
  },
  {
   "cell_type": "code",
   "execution_count": 187,
   "metadata": {},
   "outputs": [
    {
     "name": "stdout",
     "output_type": "stream",
     "text": [
      "Best Params: {'class_weight': 'balanced_subsample', 'max_depth': 9, 'max_features': 'sqrt', 'min_samples_leaf': 7, 'n_estimators': 20, 'random_state': 9}\n",
      "Train F1: [0.61796365 0.59518167 0.56691338]\n",
      "Test Classification Report:\n",
      "              precision    recall  f1-score   support\n",
      "\n",
      "         0.0       0.65      0.50      0.57       801\n",
      "         1.0       0.37      0.38      0.37       630\n",
      "         2.0       0.28      0.37      0.32       536\n",
      "\n",
      "   micro avg       0.43      0.43      0.43      1967\n",
      "   macro avg       0.43      0.42      0.42      1967\n",
      "weighted avg       0.46      0.43      0.44      1967\n",
      "\n",
      "Train Accuracy: 0.5944055944055944\tTest accuracy: 0.42653787493645146\n",
      "[[404 167 230]\n",
      " [115 237 278]\n",
      " [105 233 198]]\n"
     ]
    }
   ],
   "source": [
    "# Random forest no numbers with open\n",
    "rfc = RandomForestClassifier()\n",
    "gridsearch = GridSearchCV(rfc, {\"n_estimators\": [20, 50, 100, 200, 500], \"max_depth\": [1, 3, 5, 7, 9, 11], \n",
    "                                 \"min_samples_leaf\": [3 , 5 , 7 , 9], \"max_features\": [None, 'sqrt', 'log2']\n",
    "                                , \"class_weight\": [\"balanced\", \"balanced_subsample\"], 'random_state': [9]}, \n",
    "                          scoring='f1_micro', cv=3)\n",
    "gridsearch.fit(X_trainPO, y_trainPO)\n",
    "print(\"Best Params: {}\".format(gridsearch.best_params_))\n",
    "y_pred_train = gridsearch.predict(X_trainPO)\n",
    "print(\"Train F1: {}\".format(f1_score(y_trainPO, y_pred_train, average=None)))\n",
    "print(\"Test Classification Report:\")M\n",
    "y_pred_test = gridsearch.predict(X_testPO)\n",
    "print(classification_report(y_testPO, y_pred_test))\n",
    "print(\"Train Accuracy: {}\\tTest accuracy: {}\".format(accuracy_score(y_trainPO, y_pred_train),\n",
    "                                                     accuracy_score(y_testPO, y_pred_test)))\n",
    "print(confusion_matrix(y_testPO, y_pred_test))"
   ]
  },
  {
   "cell_type": "code",
   "execution_count": 169,
   "metadata": {},
   "outputs": [
    {
     "name": "stdout",
     "output_type": "stream",
     "text": [
      "Best Params: {'class_weight': 'balanced', 'max_depth': 9, 'max_features': 'sqrt', 'min_samples_leaf': 3, 'n_estimators': 50, 'random_state': 9}\n",
      "Train F1: [0.62157867 0.62450593 0.59612958]\n",
      "Test Classification Report:\n",
      "              precision    recall  f1-score   support\n",
      "\n",
      "         0.0       0.66      0.51      0.58       801\n",
      "         1.0       0.40      0.46      0.43       630\n",
      "         2.0       0.31      0.35      0.33       536\n",
      "\n",
      "   micro avg       0.45      0.45      0.45      1967\n",
      "   macro avg       0.46      0.44      0.45      1967\n",
      "weighted avg       0.48      0.45      0.46      1967\n",
      "\n",
      "Train Accuracy: 0.6148760330578512\tTest accuracy: 0.45348246059989833\n",
      "[[410 196 195]\n",
      " [106 292 232]\n",
      " [109 237 190]]\n"
     ]
    }
   ],
   "source": [
    "#Random Forest, raw numbers dropped\n",
    "rfc = RandomForestClassifier()\n",
    "gridsearch = GridSearchCV(rfc, {\"n_estimators\": [20, 50, 100, 200, 500], \"max_depth\": [1, 3, 5, 7, 9, 11], \n",
    "                                 \"min_samples_leaf\": [3 , 5 , 7 , 9], \"max_features\": [None, 'sqrt', 'log2']\n",
    "                                , \"class_weight\": [\"balanced\", \"balanced_subsample\"], 'random_state': [9]}, \n",
    "                          scoring='f1_micro', cv=3)\n",
    "gridsearch.fit(X_trainP, y_trainP)\n",
    "print(\"Best Params: {}\".format(gridsearch.best_params_))\n",
    "y_pred_train = gridsearch.predict(X_trainP)\n",
    "print(\"Train F1: {}\".format(f1_score(y_trainP, y_pred_train, average=None)))\n",
    "print(\"Test Classification Report:\")\n",
    "y_pred_test = gridsearch.predict(X_testP)\n",
    "print(classification_report(y_testP, y_pred_test))\n",
    "print(\"Train Accuracy: {}\\tTest accuracy: {}\".format(accuracy_score(y_trainP, y_pred_train),\n",
    "                                                     accuracy_score(y_testP, y_pred_test)))\n",
    "print(confusion_matrix(y_testP, y_pred_test))"
   ]
  },
  {
   "cell_type": "code",
   "execution_count": 179,
   "metadata": {},
   "outputs": [
    {
     "data": {
      "text/plain": [
       "RandomForestClassifier(bootstrap=True, class_weight='balanced',\n",
       "            criterion='gini', max_depth=9, max_features='sqrt',\n",
       "            max_leaf_nodes=None, min_impurity_decrease=0.0,\n",
       "            min_impurity_split=None, min_samples_leaf=3,\n",
       "            min_samples_split=2, min_weight_fraction_leaf=0.0,\n",
       "            n_estimators=50, n_jobs=None, oob_score=False, random_state=9,\n",
       "            verbose=0, warm_start=False)"
      ]
     },
     "execution_count": 179,
     "metadata": {},
     "output_type": "execute_result"
    }
   ],
   "source": [
    "rfcbp = RandomForestClassifier(class_weight= 'balanced', max_depth= 9, max_features= 'sqrt', min_samples_leaf= 3, \n",
    "                               n_estimators= 50, random_state= 9)\n",
    "rfcbp.fit(X_trainP, y_trainP)"
   ]
  },
  {
   "cell_type": "code",
   "execution_count": 180,
   "metadata": {},
   "outputs": [
    {
     "data": {
      "image/png": "[encoded data removed]",
      "text/plain": [
       "<Figure size 432x288 with 1 Axes>"
      ]
     },
     "metadata": {},
     "output_type": "display_data"
    }
   ],
   "source": [
    "# illustrating most important features\n",
    "best_featp, best_featpltp = features_full(data_noprev_per,rfcbp.feature_importances_, .01)"
   ]
  },
  {
   "cell_type": "markdown",
   "metadata": {},
   "source": [
    "## Results:\n",
    "K-nearest neighbors seems to be working by putting everything in the \"no change\" category, and does this even more when removing \"OPEN\" which also makes it put even more in there (slightly increasing the over all accuracy, but probably not enough to be worth it). \n",
    "\n",
    "The random forests (which for whatever reason, don't like lots of estimators) were interesting. They're much worse at putting \"no change\" in the right box, but are much better with the other two cateories, which is probably a good thing but it depends on what you want to do. Also, dropping the raw numbers and keeping \"OPEN\" makes the forest much worse than dropping the numbers and OPEN (which is currently the best model). This final model likes the sentiments more than when there is numbers. \n",
    "\n",
    "\n",
    "## Other Important Features:\n",
    "Another option for narrowing down the features list (and making this a bit less overfitting in the long run) is to use industries instead of dummies for each company. We used [this website](https://www.thestreet.com) to determine which companies were classified into which industries. Only two, United Health Group and du Pont had no comparable groups, so we just left those dummies as is."
   ]
  },
  {
   "cell_type": "code",
   "execution_count": 181,
   "metadata": {
    "collapsed": true
   },
   "outputs": [],
   "source": [
    "# classifying the stocks into industries\n",
    "financial = ['AXP','GS','JPM','TRV']\n",
    "electronic_tech = ['BA', 'CSCO', 'INTC']\n",
    "producer_manu = ['CAT', 'GE', 'MMM','UTX']\n",
    "minerals = ['CVX','XOM']\n",
    "tech_services = ['IBM', 'MSFT','V']\n",
    "basic_materials = ['DD']\n",
    "consumer_services = ['DIS', 'MCD']\n",
    "retail = ['HD','WMT']\n",
    "health_tech = ['JNJ', 'MRK','PFE']\n",
    "health_services = ['UNH']\n",
    "non_durables = ['KO','NKE','PG']\n",
    "comms = ['T','VZ']\n",
    "\n",
    "industries = [financial, electronic_tech, producer_manu, minerals, consumer_services, tech_services, retail, \n",
    "              health_tech, non_durables, comms]\n",
    "\n",
    "def industrifier(df,list_, drop=True):\n",
    "    for i in range(len(df)):\n",
    "        for e in list_:\n",
    "            for x in e:\n",
    "                if df.loc[i,x] == 1:\n",
    "                    df.loc[i,str(e)] = 1\n",
    "                else:\n",
    "                    pass\n",
    "    if drop==True:\n",
    "        for e in list_:\n",
    "            df.drop(columns=e, inplace=True)\n",
    "        df.fillna(0,inplace=True)\n",
    "    else:\n",
    "        df.fillna(0,inplace=True)\n",
    "    return df"
   ]
  },
  {
   "cell_type": "code",
   "execution_count": 194,
   "metadata": {
    "collapsed": true
   },
   "outputs": [],
   "source": [
    "#creating new dataset using industrified variables\n",
    "data2 = pd.read_csv(\"/Users/jacobbills/Desktop/Economics/Twitter_sentiment_DJIA30/Combined_stocks.csv\") \n",
    "data2 = industrifier(data2, industries, drop=True)\n",
    "sentiments = ['NUM_NEG', 'NUM_NEG1', 'NUM_NEG2', 'NUM_NEG3','NUM_NEU','NUM_NEU1','NUM_NEU2','NUM_NEU3','NUM_POS',\n",
    "              'NUM_POS1','NUM_POS2', 'NUM_POS3']\n",
    "for e in sentiments:\n",
    "    if e.endswith(\"1\"):\n",
    "        data2[e+\"_PER\"] = data2[e]/data2['TW1']\n",
    "    elif e.endswith(\"2\"):\n",
    "        data2[e+\"_PER\"] = data2[e]/data2['TW2']\n",
    "    elif e.endswith(\"3\"):\n",
    "        data2[e+\"_PER\"] = data2[e]/data2['TW3']\n",
    "    else:\n",
    "        data2[e+\"_PER\"] = data2[e]/data2['TW']\n",
    "        \n",
    "data2['Date']= pd.to_datetime(data2['Date'])\n",
    "data2['day'] = data2['Date'].dt.day_name()\n",
    "data2 = pd.get_dummies(data2, columns=['day'])\n",
    "is_null = data2.columns[data2.isnull().any()] # seeing where there might be a problem\n",
    "for e in is_null: #just fill them in with whatever is closest\n",
    "    data2[e].fillna(data2[e].mean(), inplace=True)\n",
    "for i in range(len(data2)): # create the classes\n",
    "    if data2.loc[i,\"CLOSE\"] > data2.loc[i,\"OPEN\"]+.25:\n",
    "        data2.loc[i,\"class\"] = 1 # gained by more than $.25\n",
    "    elif data2.loc[i,\"CLOSE\"] < data2.loc[i,'OPEN']-.25:\n",
    "        data2.loc[i,\"class\"] = 2 # lost by more than $.25 \n",
    "    else:\n",
    "        data2.loc[i,\"class\"] = 0 # minimal change\n",
    "data2 = data2.loc[data2.weekend==0]\n",
    "target2 = data2.CLOSE # target\n",
    "target_class2 = data2[\"class\"] # target for classifiers\n",
    "high2 = data2.HIGH # other columns that we don't really need for now\n",
    "low2 = data2.LOW\n",
    "data2_prev = data2.drop(columns=['CLOSE', 'HIGH', 'LOW', 'Unnamed: 0', 'class', 'day_Saturday', 'day_Sunday', 'Date',\n",
    "                            'NUM_NEG', 'NUM_NEU', 'NUM_POS', 'NUM_NEG_PER', 'NUM_NEU_PER', 'NUM_POS_PER', \"TW\"])\n",
    "data2_nopen_prev = data2_prev.drop(columns=['OPEN'])\n",
    "data2_prev_per = data2_prev.drop(columns=sentiments_prev)\n",
    "data2_noprev_per = data2_nopen_prev.drop(columns=sentiments_prev)"
   ]
  },
  {
   "cell_type": "code",
   "execution_count": 198,
   "metadata": {
    "collapsed": true
   },
   "outputs": [],
   "source": [
    "# scale the new data\n",
    "data2_prev_per = pd.DataFrame(data2_prev_per, dtype='float')\n",
    "data2_noprev_per = pd.DataFrame(data2_noprev_per, dtype='float')\n",
    "scaler.fit(data2_prev_per)\n",
    "scaled2_prevperO = scaler.transform(data2_prev_per)\n",
    "\n",
    "scaler.fit(data2_noprev_per)\n",
    "scaled2_prevper = scaler.transform(data2_noprev_per)\n",
    "\n",
    "X_trainPO2, X_testPO2, y_trainPO2, y_testPO2 = train_test_split(scaled2_prevperO, target_class2, test_size=.2, random_state = 11)\n",
    "X_trainP2, X_testP2, y_trainP2, y_testP2 = train_test_split(scaled2_prevper, target_class2, test_size=.2, random_state = 11)"
   ]
  },
  {
   "cell_type": "markdown",
   "metadata": {},
   "source": [
    "## KNN - Industrified:"
   ]
  },
  {
   "cell_type": "code",
   "execution_count": 199,
   "metadata": {},
   "outputs": [
    {
     "name": "stdout",
     "output_type": "stream",
     "text": [
      "Best Params: {'n_neighbors': 9, 'p': 1, 'weights': 'uniform'}\n",
      "Train F1: [0.67320261 0.50408298 0.44565499]\n",
      "Test Classification Report:\n",
      "              precision    recall  f1-score   support\n",
      "\n",
      "         0.0       0.52      0.66      0.58       801\n",
      "         1.0       0.42      0.37      0.39       630\n",
      "         2.0       0.34      0.26      0.29       536\n",
      "\n",
      "   micro avg       0.46      0.46      0.46      1967\n",
      "   macro avg       0.43      0.43      0.42      1967\n",
      "weighted avg       0.44      0.46      0.44      1967\n",
      "\n",
      "Train Accuracy: 0.5687221869040051\tTest accuracy: 0.4550076258261312\n",
      "[[525 154 122]\n",
      " [254 233 143]\n",
      " [232 167 137]]\n"
     ]
    }
   ],
   "source": [
    "# K Nearest Neighbors with open industrified\n",
    "knn = KNeighborsClassifier()\n",
    "gridsearch = GridSearchCV(knn, {\"n_neighbors\": [5, 7, 9, 11], \"weights\": ['uniform', 'distance'], \n",
    "                                'p': [1, 2, 3]}, scoring='f1_micro', cv=3)\n",
    "gridsearch.fit(X_trainPO2, y_trainPO2)\n",
    "print(\"Best Params: {}\".format(gridsearch.best_params_))\n",
    "y_pred_train = gridsearch.predict(X_trainPO2)\n",
    "print(\"Train F1: {}\".format(f1_score(y_trainPO2, y_pred_train, average=None)))\n",
    "print(\"Test Classification Report:\")\n",
    "y_pred_test = gridsearch.predict(X_testPO2)\n",
    "print(classification_report(y_testPO2, y_pred_test))\n",
    "print(\"Train Accuracy: {}\\tTest accuracy: {}\".format(accuracy_score(y_trainPO2, y_pred_train),\n",
    "                                                     accuracy_score(y_testPO2, y_pred_test)))\n",
    "print(confusion_matrix(y_testPO2, y_pred_test))"
   ]
  },
  {
   "cell_type": "code",
   "execution_count": 200,
   "metadata": {},
   "outputs": [
    {
     "name": "stdout",
     "output_type": "stream",
     "text": [
      "Best Params: {'n_neighbors': 9, 'p': 1, 'weights': 'uniform'}\n",
      "Train F1: [0.67362995 0.50144092 0.43826358]\n",
      "Test Classification Report:\n",
      "              precision    recall  f1-score   support\n",
      "\n",
      "         0.0       0.52      0.66      0.58       801\n",
      "         1.0       0.41      0.36      0.39       630\n",
      "         2.0       0.34      0.26      0.30       536\n",
      "\n",
      "   micro avg       0.45      0.45      0.45      1967\n",
      "   macro avg       0.43      0.43      0.42      1967\n",
      "weighted avg       0.44      0.45      0.44      1967\n",
      "\n",
      "Train Accuracy: 0.5666878575969485\tTest accuracy: 0.4539908490086426\n",
      "[[526 156 119]\n",
      " [254 227 149]\n",
      " [232 164 140]]\n"
     ]
    }
   ],
   "source": [
    "# K Nearest Neighbors without open industrified\n",
    "knn = KNeighborsClassifier()\n",
    "gridsearch = GridSearchCV(knn, {\"n_neighbors\": [5, 7, 9, 11], \"weights\": ['uniform', 'distance'], \n",
    "                                'p': [1, 2, 3]}, scoring='f1_micro', cv=3)\n",
    "gridsearch.fit(X_trainP2, y_trainP2)\n",
    "print(\"Best Params: {}\".format(gridsearch.best_params_))\n",
    "y_pred_train = gridsearch.predict(X_trainP2)\n",
    "print(\"Train F1: {}\".format(f1_score(y_trainP2, y_pred_train, average=None)))\n",
    "print(\"Test Classification Report:\")\n",
    "y_pred_test = gridsearch.predict(X_testP2)\n",
    "print(classification_report(y_testP2, y_pred_test))\n",
    "print(\"Train Accuracy: {}\\tTest accuracy: {}\".format(accuracy_score(y_trainP2, y_pred_train),\n",
    "                                                     accuracy_score(y_testP2, y_pred_test)))\n",
    "print(confusion_matrix(y_testP2, y_pred_test))"
   ]
  },
  {
   "cell_type": "markdown",
   "metadata": {},
   "source": [
    "## Visualizing the Data:\n",
    "It seems like were hitting a wall with this data. We aren't able to gain much predictive power so we are going to print out heatmaps of our confusion matrices to better understand whats going on in our models"
   ]
  },
  {
   "cell_type": "code",
   "execution_count": 309,
   "metadata": {
    "collapsed": true
   },
   "outputs": [],
   "source": [
    "#taken from https://gist.github.com/shaypal5/94c53d765083101efc0240d776a23823\n",
    "def print_confusion_matrix(confusion_matrix, class_names, figsize = (10,7), fontsize=14):\n",
    "    df_cm = pd.DataFrame(\n",
    "        confusion_matrix, index=class_names, columns=class_names, \n",
    "    )\n",
    "    fig = plt.figure(figsize=figsize)\n",
    "    try:\n",
    "        heatmap = sns.heatmap(df_cm, annot=True, fmt=\"d\", cmap='YlGnBu')\n",
    "    except ValueError:\n",
    "        raise ValueError(\"Confusion matrix values must be integers.\")\n",
    "    heatmap.yaxis.set_ticklabels(heatmap.yaxis.get_ticklabels(), rotation=0, ha='right', fontsize=fontsize)\n",
    "    heatmap.xaxis.set_ticklabels(heatmap.xaxis.get_ticklabels(), rotation=45, ha='right', fontsize=fontsize)\n",
    "    plt.ylabel('True label')\n",
    "    plt.xlabel('Predicted label')\n",
    "    return fig"
   ]
  },
  {
   "cell_type": "code",
   "execution_count": 310,
   "metadata": {},
   "outputs": [
    {
     "data": {
      "image/png": "[encoded data removed]",
      "text/plain": [
       "<Figure size 720x504 with 2 Axes>"
      ]
     },
     "metadata": {},
     "output_type": "display_data"
    }
   ],
   "source": [
    "knnt = KNeighborsClassifier(n_neighbors=9,p=1,weights='uniform')\n",
    "knnt.fit(X_trainP2, y_trainP2)\n",
    "y_pred_train = knnt.predict(X_trainP2)\n",
    "y_pred_test = knnt.predict(X_testP2)\n",
    "cmknn = confusion_matrix(y_testP2, y_pred_test)\n",
    "knngraph = print_confusion_matrix(cmknn,['No Change', 'Price Increase', 'Price Decrease'])"
   ]
  },
  {
   "cell_type": "markdown",
   "metadata": {},
   "source": [
    "## Random Forest - Industrified:"
   ]
  },
  {
   "cell_type": "code",
   "execution_count": 201,
   "metadata": {},
   "outputs": [
    {
     "name": "stdout",
     "output_type": "stream",
     "text": [
      "Best Params: {'class_weight': 'balanced_subsample', 'max_depth': 7, 'max_features': 'sqrt', 'min_samples_leaf': 3, 'n_estimators': 200, 'random_state': 9}\n",
      "Train F1: [0.60969655 0.58924645 0.56759463]\n",
      "Test Classification Report:\n",
      "              precision    recall  f1-score   support\n",
      "\n",
      "         0.0       0.64      0.51      0.57       801\n",
      "         1.0       0.40      0.41      0.40       630\n",
      "         2.0       0.30      0.38      0.33       536\n",
      "\n",
      "   micro avg       0.44      0.44      0.44      1967\n",
      "   macro avg       0.45      0.43      0.44      1967\n",
      "weighted avg       0.47      0.44      0.45      1967\n",
      "\n",
      "Train Accuracy: 0.5898283534647171\tTest accuracy: 0.4428063040162684\n",
      "[[409 175 217]\n",
      " [113 259 258]\n",
      " [113 220 203]]\n"
     ]
    }
   ],
   "source": [
    "# RFC industrified open\n",
    "rfc = RandomForestClassifier()\n",
    "gridsearch = GridSearchCV(rfc, {\"n_estimators\": [20, 50, 100, 200, 500], \"max_depth\": [1, 3, 5, 7, 9, 11], \n",
    "                                 \"min_samples_leaf\": [3 , 5 , 7 , 9], \"max_features\": [None, 'sqrt', 'log2']\n",
    "                                , \"class_weight\": [\"balanced\", \"balanced_subsample\"], 'random_state': [9]}, \n",
    "                          scoring='f1_micro', cv=3)\n",
    "gridsearch.fit(X_trainPO2, y_trainPO2)\n",
    "print(\"Best Params: {}\".format(gridsearch.best_params_))\n",
    "y_pred_train = gridsearch.predict(X_trainPO2)\n",
    "print(\"Train F1: {}\".format(f1_score(y_trainPO2, y_pred_train, average=None)))\n",
    "print(\"Test Classification Report:\")\n",
    "y_pred_test = gridsearch.predict(X_testPO2)\n",
    "print(classification_report(y_testPO2, y_pred_test))\n",
    "print(\"Train Accuracy: {}\\tTest accuracy: {}\".format(accuracy_score(y_trainPO2, y_pred_train),\n",
    "                                                     accuracy_score(y_testPO2, y_pred_test)))\n",
    "print(confusion_matrix(y_testPO2, y_pred_test))"
   ]
  },
  {
   "cell_type": "code",
   "execution_count": 202,
   "metadata": {},
   "outputs": [
    {
     "name": "stdout",
     "output_type": "stream",
     "text": [
      "Best Params: {'class_weight': 'balanced', 'max_depth': 7, 'max_features': 'sqrt', 'min_samples_leaf': 9, 'n_estimators': 50, 'random_state': 9}\n",
      "Train F1: [0.5998596  0.57521463 0.53786906]\n",
      "Test Classification Report:\n",
      "              precision    recall  f1-score   support\n",
      "\n",
      "         0.0       0.66      0.50      0.57       801\n",
      "         1.0       0.40      0.46      0.43       630\n",
      "         2.0       0.31      0.35      0.33       536\n",
      "\n",
      "   micro avg       0.45      0.45      0.45      1967\n",
      "   macro avg       0.45      0.44      0.44      1967\n",
      "weighted avg       0.48      0.45      0.46      1967\n",
      "\n",
      "Train Accuracy: 0.5730451366815004\tTest accuracy: 0.4489069649211998\n",
      "[[403 204 194]\n",
      " [104 292 234]\n",
      " [106 242 188]]\n"
     ]
    }
   ],
   "source": [
    "# RFC industrified no open\n",
    "rfc = RandomForestClassifier()\n",
    "gridsearch = GridSearchCV(rfc, {\"n_estimators\": [20, 50, 100, 200, 500], \"max_depth\": [1, 3, 5, 7, 9, 11], \n",
    "                                 \"min_samples_leaf\": [3 , 5 , 7 , 9], \"max_features\": [None, 'sqrt', 'log2']\n",
    "                                , \"class_weight\": [\"balanced\", \"balanced_subsample\"], 'random_state': [9]}, \n",
    "                          scoring='f1_micro', cv=3)\n",
    "gridsearch.fit(X_trainP2, y_trainP2)\n",
    "print(\"Best Params: {}\".format(gridsearch.best_params_))\n",
    "y_pred_train = gridsearch.predict(X_trainP2)\n",
    "print(\"Train F1: {}\".format(f1_score(y_trainP2, y_pred_train, average=None)))\n",
    "print(\"Test Classification Report:\")\n",
    "y_pred_test = gridsearch.predict(X_testP2)\n",
    "print(classification_report(y_testP2, y_pred_test))\n",
    "print(\"Train Accuracy: {}\\tTest accuracy: {}\".format(accuracy_score(y_trainP2, y_pred_train),\n",
    "                                                     accuracy_score(y_testP2, y_pred_test)))\n",
    "print(confusion_matrix(y_testP2, y_pred_test))"
   ]
  },
  {
   "cell_type": "code",
   "execution_count": 203,
   "metadata": {},
   "outputs": [
    {
     "data": {
      "text/plain": [
       "RandomForestClassifier(bootstrap=True, class_weight='balanced',\n",
       "            criterion='gini', max_depth=7, max_features='sqrt',\n",
       "            max_leaf_nodes=None, min_impurity_decrease=0.0,\n",
       "            min_impurity_split=None, min_samples_leaf=9,\n",
       "            min_samples_split=2, min_weight_fraction_leaf=0.0,\n",
       "            n_estimators=50, n_jobs=None, oob_score=False, random_state=9,\n",
       "            verbose=0, warm_start=False)"
      ]
     },
     "execution_count": 203,
     "metadata": {},
     "output_type": "execute_result"
    }
   ],
   "source": [
    "rfcbpO2 = RandomForestClassifier(class_weight= 'balanced_subsample', max_depth= 7, max_features= 'sqrt', min_samples_leaf= 3, \n",
    "                               n_estimators= 200, random_state= 9)\n",
    "rfcbpO2.fit(X_trainPO2, y_trainPO2)\n",
    "rfcbp2 = RandomForestClassifier(class_weight= 'balanced', max_depth= 7, max_features= 'sqrt', min_samples_leaf= 9, \n",
    "                               n_estimators= 50, random_state= 9)\n",
    "rfcbp2.fit(X_trainP2, y_trainP2)"
   ]
  },
  {
   "cell_type": "code",
   "execution_count": 206,
   "metadata": {},
   "outputs": [
    {
     "data": {
      "image/png": "[encoded data removed]",
      "text/plain": [
       "<Figure size 432x288 with 1 Axes>"
      ]
     },
     "metadata": {},
     "output_type": "display_data"
    }
   ],
   "source": [
    "best_featpO2, best_featpltpO2 = features_full(data2_prev_per,rfcbpO2.feature_importances_, .01)"
   ]
  },
  {
   "cell_type": "code",
   "execution_count": 205,
   "metadata": {},
   "outputs": [
    {
     "data": {
      "image/png": "[encoded data removed]",
      "text/plain": [
       "<Figure size 432x288 with 1 Axes>"
      ]
     },
     "metadata": {},
     "output_type": "display_data"
    }
   ],
   "source": [
    "best_featp2, best_featpltp2 = features_full(data2_noprev_per,rfcbp2.feature_importances_, .01)"
   ]
  },
  {
   "cell_type": "code",
   "execution_count": 311,
   "metadata": {},
   "outputs": [
    {
     "data": {
      "image/png": "[encoded data removed]",
      "text/plain": [
       "<Figure size 720x504 with 2 Axes>"
      ]
     },
     "metadata": {},
     "output_type": "display_data"
    }
   ],
   "source": [
    "rfcbp2.fit(X_trainP2, y_trainP2)\n",
    "y_pred_train = rfcbp2.predict(X_trainP2)\n",
    "y_pred_test = rfcbp2.predict(X_testP2)\n",
    "rfcm = confusion_matrix(y_testP2, y_pred_test)\n",
    "rfgraph = print_confusion_matrix(rfcm,['No Change', 'Price Increase', 'Price Decrease'])"
   ]
  },
  {
   "cell_type": "markdown",
   "metadata": {},
   "source": [
    "## Robustness Checks:\n",
    "Next we are going to try our models on a whole bunch of training sets to see how robust the most accurate model (k-nn) is."
   ]
  },
  {
   "cell_type": "code",
   "execution_count": 228,
   "metadata": {},
   "outputs": [
    {
     "name": "stdout",
     "output_type": "stream",
     "text": [
      "0\n",
      "0\n",
      "Train F1: [0.66703403 0.51550712 0.4298459 ]\n",
      "Test Classification Report:\n",
      "              precision    recall  f1-score   support\n",
      "\n",
      "         0.0       0.55      0.68      0.60       849\n",
      "         1.0       0.34      0.34      0.34       563\n",
      "         2.0       0.32      0.20      0.25       555\n",
      "\n",
      "   micro avg       0.45      0.45      0.45      1967\n",
      "   macro avg       0.40      0.41      0.40      1967\n",
      "weighted avg       0.42      0.45      0.43      1967\n",
      "\n",
      "Train Accuracy: 0.5652892561983471\tTest accuracy: 0.4483985765124555\n",
      "[[576 165 108]\n",
      " [242 194 127]\n",
      " [238 205 112]]\n",
      "\n",
      "\n",
      "1\n",
      "1\n",
      "Train F1: [0.67038954 0.51100937 0.44619837]\n",
      "Test Classification Report:\n",
      "              precision    recall  f1-score   support\n",
      "\n",
      "         0.0       0.51      0.68      0.59       789\n",
      "         1.0       0.38      0.33      0.35       629\n",
      "         2.0       0.35      0.24      0.29       549\n",
      "\n",
      "   micro avg       0.45      0.45      0.45      1967\n",
      "   macro avg       0.42      0.42      0.41      1967\n",
      "weighted avg       0.43      0.45      0.43      1967\n",
      "\n",
      "Train Accuracy: 0.5697393515575334\tTest accuracy: 0.44585663446873414\n",
      "[[536 154  99]\n",
      " [271 208 150]\n",
      " [234 182 133]]\n",
      "\n",
      "\n",
      "2\n",
      "4\n",
      "Train F1: [0.66460379 0.51753431 0.42957366]\n",
      "Test Classification Report:\n",
      "              precision    recall  f1-score   support\n",
      "\n",
      "         0.0       0.50      0.68      0.58       772\n",
      "         1.0       0.37      0.35      0.36       604\n",
      "         2.0       0.35      0.21      0.26       591\n",
      "\n",
      "   micro avg       0.44      0.44      0.44      1967\n",
      "   macro avg       0.41      0.41      0.40      1967\n",
      "weighted avg       0.42      0.44      0.42      1967\n",
      "\n",
      "Train Accuracy: 0.5663064208518754\tTest accuracy: 0.4377224199288256\n",
      "[[527 156  89]\n",
      " [254 209 141]\n",
      " [265 201 125]]\n",
      "\n",
      "\n",
      "3\n",
      "12\n",
      "Train F1: [0.66720257 0.50562771 0.4212836 ]\n",
      "Test Classification Report:\n",
      "              precision    recall  f1-score   support\n",
      "\n",
      "         0.0       0.51      0.71      0.60       779\n",
      "         1.0       0.42      0.38      0.40       599\n",
      "         2.0       0.40      0.24      0.30       589\n",
      "\n",
      "   micro avg       0.47      0.47      0.47      1967\n",
      "   macro avg       0.44      0.44      0.43      1967\n",
      "weighted avg       0.45      0.47      0.45      1967\n",
      "\n",
      "Train Accuracy: 0.5627463445645264\tTest accuracy: 0.4667005592272496\n",
      "[[551 133  95]\n",
      " [254 228 117]\n",
      " [267 183 139]]\n",
      "\n",
      "\n",
      "4\n",
      "16\n",
      "Train F1: [0.67006575 0.50952381 0.42657916]\n",
      "Test Classification Report:\n",
      "              precision    recall  f1-score   support\n",
      "\n",
      "         0.0       0.50      0.71      0.59       762\n",
      "         1.0       0.39      0.36      0.37       601\n",
      "         2.0       0.38      0.22      0.27       604\n",
      "\n",
      "   micro avg       0.45      0.45      0.45      1967\n",
      "   macro avg       0.42      0.43      0.41      1967\n",
      "weighted avg       0.43      0.45      0.43      1967\n",
      "\n",
      "Train Accuracy: 0.5663064208518754\tTest accuracy: 0.4494153533299441\n",
      "[[538 142  82]\n",
      " [252 216 133]\n",
      " [278 196 130]]\n",
      "\n",
      "\n",
      "5\n",
      "5\n",
      "Train F1: [0.66180517 0.49925262 0.42974332]\n",
      "Test Classification Report:\n",
      "              precision    recall  f1-score   support\n",
      "\n",
      "         0.0       0.55      0.69      0.61       829\n",
      "         1.0       0.39      0.38      0.38       581\n",
      "         2.0       0.35      0.23      0.28       557\n",
      "\n",
      "   micro avg       0.47      0.47      0.47      1967\n",
      "   macro avg       0.43      0.43      0.42      1967\n",
      "weighted avg       0.45      0.47      0.45      1967\n",
      "\n",
      "Train Accuracy: 0.5576605212968849\tTest accuracy: 0.46619217081850534\n",
      "[[568 149 112]\n",
      " [231 219 131]\n",
      " [230 197 130]]\n",
      "\n",
      "\n",
      "6\n",
      "6\n",
      "Train F1: [0.67087587 0.51347273 0.42061969]\n",
      "Test Classification Report:\n",
      "              precision    recall  f1-score   support\n",
      "\n",
      "         0.0       0.51      0.69      0.59       787\n",
      "         1.0       0.38      0.35      0.37       596\n",
      "         2.0       0.34      0.21      0.26       584\n",
      "\n",
      "   micro avg       0.45      0.45      0.45      1967\n",
      "   macro avg       0.41      0.42      0.41      1967\n",
      "weighted avg       0.42      0.45      0.42      1967\n",
      "\n",
      "Train Accuracy: 0.5664335664335665\tTest accuracy: 0.44585663446873414\n",
      "[[545 135 107]\n",
      " [260 209 127]\n",
      " [260 201 123]]\n",
      "\n",
      "\n",
      "7\n",
      "28\n",
      "Train F1: [0.67136345 0.50801111 0.44461942]\n",
      "Test Classification Report:\n",
      "              precision    recall  f1-score   support\n",
      "\n",
      "         0.0       0.53      0.67      0.59       829\n",
      "         1.0       0.37      0.35      0.36       595\n",
      "         2.0       0.34      0.23      0.27       543\n",
      "\n",
      "   micro avg       0.45      0.45      0.45      1967\n",
      "   macro avg       0.41      0.42      0.41      1967\n",
      "weighted avg       0.43      0.45      0.43      1967\n",
      "\n",
      "Train Accuracy: 0.5678321678321678\tTest accuracy: 0.4509405185561769\n",
      "[[553 163 113]\n",
      " [254 210 131]\n",
      " [230 189 124]]\n",
      "\n",
      "\n",
      "8\n",
      "8\n",
      "Train F1: [0.66256831 0.50780572 0.43707214]\n",
      "Test Classification Report:\n",
      "              precision    recall  f1-score   support\n",
      "\n",
      "         0.0       0.54      0.69      0.61       821\n",
      "         1.0       0.41      0.40      0.40       604\n",
      "         2.0       0.35      0.21      0.26       542\n",
      "\n",
      "   micro avg       0.47      0.47      0.47      1967\n",
      "   macro avg       0.43      0.43      0.43      1967\n",
      "weighted avg       0.45      0.47      0.45      1967\n",
      "\n",
      "Train Accuracy: 0.5627463445645264\tTest accuracy: 0.4702592780884596\n",
      "[[568 166  87]\n",
      " [233 242 129]\n",
      " [242 185 115]]\n",
      "\n",
      "\n",
      "9\n",
      "27\n",
      "Train F1: [0.67890914 0.51747656 0.43892007]\n",
      "Test Classification Report:\n",
      "              precision    recall  f1-score   support\n",
      "\n",
      "         0.0       0.53      0.66      0.58       821\n",
      "         1.0       0.35      0.32      0.33       588\n",
      "         2.0       0.31      0.22      0.26       558\n",
      "\n",
      "   micro avg       0.43      0.43      0.43      1967\n",
      "   macro avg       0.39      0.40      0.39      1967\n",
      "weighted avg       0.41      0.43      0.42      1967\n",
      "\n",
      "Train Accuracy: 0.5736808645899555\tTest accuracy: 0.43263853584138284\n",
      "[[541 157 123]\n",
      " [250 187 151]\n",
      " [239 196 123]]\n",
      "\n",
      "\n"
     ]
    }
   ],
   "source": [
    "# Robustness on Nearest Neighbors\n",
    "for i in range(10):\n",
    "    print(i)\n",
    "    z = np.random.randint(1,5)\n",
    "    print(i*z)\n",
    "    X_train, X_test, y_train, y_test = train_test_split(scaled2_prevper, target_class2, test_size=.2, random_state = i*z)\n",
    "    knn = KNeighborsClassifier(n_neighbors= 9, p= 1, weights= 'uniform')\n",
    "    knn.fit(X_train, y_train)\n",
    "    y_pred_train = knn.predict(X_train)\n",
    "    print(\"Train F1: {}\".format(f1_score(y_train, y_pred_train, average=None)))\n",
    "    print(\"Test Classification Report:\")\n",
    "    y_pred_test = knn.predict(X_test)\n",
    "    print(classification_report(y_test, y_pred_test))\n",
    "    print(\"Train Accuracy: {}\\tTest accuracy: {}\".format(accuracy_score(y_train, y_pred_train),\n",
    "                                                         accuracy_score(y_test, y_pred_test)))\n",
    "    print(confusion_matrix(y_test, y_pred_test))\n",
    "    print(\"\\n\")"
   ]
  },
  {
   "cell_type": "code",
   "execution_count": 230,
   "metadata": {},
   "outputs": [
    {
     "name": "stdout",
     "output_type": "stream",
     "text": [
      "0\n",
      "0\n",
      "Train F1: [0.59472078 0.58012468 0.54089654]\n",
      "Test Classification Report:\n",
      "              precision    recall  f1-score   support\n",
      "\n",
      "         0.0       0.68      0.52      0.59       849\n",
      "         1.0       0.34      0.45      0.39       563\n",
      "         2.0       0.30      0.32      0.31       555\n",
      "\n",
      "   micro avg       0.44      0.44      0.44      1967\n",
      "   macro avg       0.44      0.43      0.43      1967\n",
      "weighted avg       0.47      0.44      0.45      1967\n",
      "\n",
      "Train Accuracy: 0.5735537190082645\tTest accuracy: 0.44026436197254704\n",
      "[[438 211 200]\n",
      " [102 253 208]\n",
      " [108 272 175]]\n",
      "\n",
      "\n",
      "1\n",
      "2\n",
      "Train F1: [0.59934062 0.57877051 0.54604727]\n",
      "Test Classification Report:\n",
      "              precision    recall  f1-score   support\n",
      "\n",
      "         0.0       0.66      0.52      0.58       797\n",
      "         1.0       0.38      0.43      0.40       590\n",
      "         2.0       0.36      0.42      0.39       580\n",
      "\n",
      "   micro avg       0.46      0.46      0.46      1967\n",
      "   macro avg       0.47      0.46      0.46      1967\n",
      "weighted avg       0.49      0.46      0.47      1967\n",
      "\n",
      "Train Accuracy: 0.5760966306420852\tTest accuracy: 0.4626334519572954\n",
      "[[416 186 195]\n",
      " [106 251 233]\n",
      " [111 226 243]]\n",
      "\n",
      "\n",
      "2\n",
      "4\n",
      "Train F1: [0.59497057 0.58004725 0.53982684]\n",
      "Test Classification Report:\n",
      "              precision    recall  f1-score   support\n",
      "\n",
      "         0.0       0.63      0.48      0.54       772\n",
      "         1.0       0.38      0.50      0.43       604\n",
      "         2.0       0.36      0.35      0.35       591\n",
      "\n",
      "   micro avg       0.45      0.45      0.45      1967\n",
      "   macro avg       0.45      0.44      0.44      1967\n",
      "weighted avg       0.47      0.45      0.45      1967\n",
      "\n",
      "Train Accuracy: 0.5735537190082645\tTest accuracy: 0.44534824605998985\n",
      "[[367 231 174]\n",
      " [100 302 202]\n",
      " [112 272 207]]\n",
      "\n",
      "\n",
      "3\n",
      "9\n",
      "Train F1: [0.59309605 0.58033993 0.53384477]\n",
      "Test Classification Report:\n",
      "              precision    recall  f1-score   support\n",
      "\n",
      "         0.0       0.66      0.46      0.54       768\n",
      "         1.0       0.37      0.53      0.44       607\n",
      "         2.0       0.34      0.32      0.33       592\n",
      "\n",
      "   micro avg       0.44      0.44      0.44      1967\n",
      "   macro avg       0.46      0.44      0.44      1967\n",
      "weighted avg       0.47      0.44      0.45      1967\n",
      "\n",
      "Train Accuracy: 0.5717736808645899\tTest accuracy: 0.4407727503812913\n",
      "[[355 233 180]\n",
      " [ 96 324 187]\n",
      " [ 90 314 188]]\n",
      "\n",
      "\n",
      "4\n",
      "12\n",
      "Train F1: [0.59293614 0.57902919 0.52502884]\n",
      "Test Classification Report:\n",
      "              precision    recall  f1-score   support\n",
      "\n",
      "         0.0       0.65      0.54      0.59       779\n",
      "         1.0       0.37      0.51      0.43       599\n",
      "         2.0       0.37      0.31      0.34       589\n",
      "\n",
      "   micro avg       0.46      0.46      0.46      1967\n",
      "   macro avg       0.46      0.45      0.45      1967\n",
      "weighted avg       0.48      0.46      0.47      1967\n",
      "\n",
      "Train Accuracy: 0.5691036236490782\tTest accuracy: 0.4626334519572954\n",
      "[[421 229 129]\n",
      " [112 307 180]\n",
      " [118 289 182]]\n",
      "\n",
      "\n",
      "5\n",
      "20\n",
      "Train F1: [0.59646643 0.58177278 0.52610352]\n",
      "Test Classification Report:\n",
      "              precision    recall  f1-score   support\n",
      "\n",
      "         0.0       0.65      0.53      0.58       784\n",
      "         1.0       0.38      0.50      0.43       612\n",
      "         2.0       0.34      0.31      0.32       571\n",
      "\n",
      "   micro avg       0.46      0.46      0.46      1967\n",
      "   macro avg       0.46      0.45      0.45      1967\n",
      "weighted avg       0.48      0.46      0.46      1967\n",
      "\n",
      "Train Accuracy: 0.5712650985378258\tTest accuracy: 0.45754956786985257\n",
      "[[416 218 150]\n",
      " [110 307 195]\n",
      " [113 281 177]]\n",
      "\n",
      "\n",
      "6\n",
      "18\n",
      "Train F1: [0.57748837 0.57044222 0.52949438]\n",
      "Test Classification Report:\n",
      "              precision    recall  f1-score   support\n",
      "\n",
      "         0.0       0.69      0.51      0.59       854\n",
      "         1.0       0.34      0.53      0.41       558\n",
      "         2.0       0.36      0.30      0.33       555\n",
      "\n",
      "   micro avg       0.46      0.46      0.46      1967\n",
      "   macro avg       0.46      0.45      0.44      1967\n",
      "weighted avg       0.50      0.46      0.46      1967\n",
      "\n",
      "Train Accuracy: 0.5617291799109981\tTest accuracy: 0.4555160142348754\n",
      "[[433 289 132]\n",
      " [ 97 298 163]\n",
      " [ 94 296 165]]\n",
      "\n",
      "\n",
      "7\n",
      "14\n",
      "Train F1: [0.59937019 0.5849613  0.5462075 ]\n",
      "Test Classification Report:\n",
      "              precision    recall  f1-score   support\n",
      "\n",
      "         0.0       0.67      0.51      0.58       781\n",
      "         1.0       0.36      0.49      0.42       606\n",
      "         2.0       0.34      0.33      0.34       580\n",
      "\n",
      "   micro avg       0.45      0.45      0.45      1967\n",
      "   macro avg       0.46      0.44      0.44      1967\n",
      "weighted avg       0.48      0.45      0.46      1967\n",
      "\n",
      "Train Accuracy: 0.578893833439288\tTest accuracy: 0.4494153533299441\n",
      "[[398 226 157]\n",
      " [ 99 294 213]\n",
      " [100 288 192]]\n",
      "\n",
      "\n",
      "8\n",
      "8\n",
      "Train F1: [0.59223301 0.56551983 0.53536812]\n",
      "Test Classification Report:\n",
      "              precision    recall  f1-score   support\n",
      "\n",
      "         0.0       0.69      0.52      0.59       821\n",
      "         1.0       0.39      0.46      0.42       604\n",
      "         2.0       0.32      0.37      0.35       542\n",
      "\n",
      "   micro avg       0.46      0.46      0.46      1967\n",
      "   macro avg       0.47      0.45      0.45      1967\n",
      "weighted avg       0.49      0.46      0.47      1967\n",
      "\n",
      "Train Accuracy: 0.5656706929434202\tTest accuracy: 0.46314184036603967\n",
      "[[431 199 191]\n",
      " [ 95 279 230]\n",
      " [103 238 201]]\n",
      "\n",
      "\n",
      "9\n",
      "9\n",
      "Train F1: [0.59309605 0.58033993 0.53384477]\n",
      "Test Classification Report:\n",
      "              precision    recall  f1-score   support\n",
      "\n",
      "         0.0       0.66      0.46      0.54       768\n",
      "         1.0       0.37      0.53      0.44       607\n",
      "         2.0       0.34      0.32      0.33       592\n",
      "\n",
      "   micro avg       0.44      0.44      0.44      1967\n",
      "   macro avg       0.46      0.44      0.44      1967\n",
      "weighted avg       0.47      0.44      0.45      1967\n",
      "\n",
      "Train Accuracy: 0.5717736808645899\tTest accuracy: 0.4407727503812913\n",
      "[[355 233 180]\n",
      " [ 96 324 187]\n",
      " [ 90 314 188]]\n",
      "\n",
      "\n"
     ]
    }
   ],
   "source": [
    "# random forest robustness check\n",
    "for i in range(10): \n",
    "    print(i)\n",
    "    z = np.random.randint(1,5)\n",
    "    print(i*z)\n",
    "    X_train, X_test, y_train, y_test = train_test_split(scaled2_prevper, target_class2, test_size=.2, random_state = i*z)\n",
    "    rfc = RandomForestClassifier(class_weight= 'balanced', max_depth= 7, max_features= 'sqrt', min_samples_leaf= 9, \n",
    "                                   n_estimators= 50, random_state= 9)\n",
    "    rfc.fit(X_train, y_train)\n",
    "    y_pred_train = rfc.predict(X_train)\n",
    "    print(\"Train F1: {}\".format(f1_score(y_train, y_pred_train, average=None)))\n",
    "    print(\"Test Classification Report:\")\n",
    "    y_pred_test = rfc.predict(X_test)\n",
    "    print(classification_report(y_test, y_pred_test))\n",
    "    print(\"Train Accuracy: {}\\tTest accuracy: {}\".format(accuracy_score(y_train, y_pred_train),\n",
    "                                                         accuracy_score(y_test, y_pred_test)))\n",
    "    print(confusion_matrix(y_test, y_pred_test))\n",
    "    print(\"\\n\")"
   ]
  },
  {
   "cell_type": "markdown",
   "metadata": {},
   "source": [
    "## Ensembling for Increased Predictive Power\n",
    "We next try to ensemble our models together for an increase in predictive power. Ensembling KNN and Random Forest together seems like it might not be the worst idea, however using only two models seems to not improve anything. We should use more models in our ensemble.\n"
   ]
  },
  {
   "cell_type": "code",
   "execution_count": 232,
   "metadata": {
    "collapsed": true
   },
   "outputs": [],
   "source": [
    "# Ensembeling our data\n",
    "\n",
    "#Weighted Average\n",
    "model1 = KNeighborsClassifier(n_neighbors= 9, p= 1, weights= 'uniform')\n",
    "model2 = RandomForestClassifier(class_weight= 'balanced', max_depth= 7, max_features= 'sqrt', min_samples_leaf= 9, \n",
    "                                   n_estimators= 50, random_state= 9)\n",
    "\n",
    "X_train, X_test, y_train, y_test = train_test_split(scaled2_prevper, target_class2, test_size=.2, random_state = 42)\n",
    "\n",
    "model1.fit(X_train, y_train)\n",
    "model2.fit(X_train, y_train)\n",
    "\n",
    "pred1=model1.predict_proba(X_test)\n",
    "pred2=model2.predict_proba(X_test)\n",
    "\n",
    "finalpred = (pred1*0.3+pred2*0.7)"
   ]
  },
  {
   "cell_type": "code",
   "execution_count": 303,
   "metadata": {},
   "outputs": [
    {
     "name": "stdout",
     "output_type": "stream",
     "text": [
      "0.41382816471784445\n",
      "Train F1: [0.63966411 0.49963724 0.45467544]\n",
      "Test Classification Report:\n",
      "              precision    recall  f1-score   support\n",
      "\n",
      "         0.0       0.45      0.71      0.55       792\n",
      "         1.0       0.35      0.24      0.29       602\n",
      "         2.0       0.34      0.19      0.24       573\n",
      "\n",
      "   micro avg       0.41      0.41      0.41      1967\n",
      "   macro avg       0.38      0.38      0.36      1967\n",
      "weighted avg       0.39      0.41      0.38      1967\n",
      "\n",
      "Train Accuracy: 0.5617291799109981\tTest accuracy: 0.41382816471784445\n",
      "[[560 132 100]\n",
      " [349 147 106]\n",
      " [324 142 107]]\n"
     ]
    }
   ],
   "source": [
    "# ensembling using a voting classifier method\n",
    "from sklearn.ensemble import VotingClassifier\n",
    "model = VotingClassifier(estimators=[('knn', model1), ('dt', model2), ('gb', gbcb)], voting='hard')\n",
    "model.fit(X_train,y_train)\n",
    "print(model.score(X_test, y_test))\n",
    "y_pred_train = model.predict(X_train)\n",
    "print(\"Train F1: {}\".format(f1_score(y_train, y_pred_train, average=None)))\n",
    "print(\"Test Classification Report:\")\n",
    "y_pred_test = model.predict(X_test)\n",
    "print(classification_report(y_test, y_pred_test))\n",
    "print(\"Train Accuracy: {}\\tTest accuracy: {}\".format(accuracy_score(y_train, y_pred_train),\n",
    "                                                     accuracy_score(y_test, y_pred_test)))\n",
    "print(confusion_matrix(y_test, y_pred_test))"
   ]
  },
  {
   "cell_type": "code",
   "execution_count": 312,
   "metadata": {},
   "outputs": [
    {
     "data": {
      "image/png": "[encoded data removed]",
      "text/plain": [
       "<Figure size 720x504 with 2 Axes>"
      ]
     },
     "metadata": {},
     "output_type": "display_data"
    }
   ],
   "source": [
    "# printing a confusion matrix to visualize how well our ensemble performed\n",
    "model.fit(X_train,y_train)\n",
    "y_pred_train = model.predict(X_train)\n",
    "y_pred_test = model.predict(X_test)\n",
    "modelcm = confusion_matrix(y_test, y_pred_test)\n",
    "votegraph = print_confusion_matrix(modelcm,['No Change', 'Price Increase', 'Price Decrease'])"
   ]
  },
  {
   "cell_type": "code",
   "execution_count": 257,
   "metadata": {
    "collapsed": true
   },
   "outputs": [],
   "source": [
    "# importing some different ensembling libraries to try other methods\n",
    "from sklearn.ensemble import AdaBoostClassifier\n",
    "from sklearn.ensemble import GradientBoostingClassifier"
   ]
  },
  {
   "cell_type": "markdown",
   "metadata": {},
   "source": [
    "### AdaBoost:"
   ]
  },
  {
   "cell_type": "code",
   "execution_count": 255,
   "metadata": {},
   "outputs": [
    {
     "data": {
      "text/plain": [
       "0.44738179969496694"
      ]
     },
     "execution_count": 255,
     "metadata": {},
     "output_type": "execute_result"
    }
   ],
   "source": [
    "# trying an AdaBoostClassifier - Not much better\n",
    "model = AdaBoostClassifier(random_state=1)\n",
    "model.fit(X_train,y_train)"
   ]
  },
  {
   "cell_type": "markdown",
   "metadata": {},
   "source": [
    "### Gradient Boosting:"
   ]
  },
  {
   "cell_type": "code",
   "execution_count": 258,
   "metadata": {},
   "outputs": [
    {
     "name": "stdout",
     "output_type": "stream",
     "text": [
      "27\n"
     ]
    }
   ],
   "source": [
    "gbcb = GradientBoostingClassifier(n_estimators= 5000, max_depth = 3, learning_rate = .1, \n",
    "                                  n_iter_no_change=5, random_state = 0)\n",
    "gbcb.fit(X_train, y_train)\n",
    "print(gbcb.n_estimators_)"
   ]
  },
  {
   "cell_type": "code",
   "execution_count": 261,
   "metadata": {},
   "outputs": [
    {
     "name": "stdout",
     "output_type": "stream",
     "text": [
      "Train F1: [0.63953645 0.48890575 0.28722003]\n",
      "Test Classification Report:\n",
      "              precision    recall  f1-score   support\n",
      "\n",
      "         0.0       0.53      0.73      0.62       792\n",
      "         1.0       0.41      0.47      0.44       602\n",
      "         2.0       0.42      0.14      0.22       573\n",
      "\n",
      "   micro avg       0.48      0.48      0.48      1967\n",
      "   macro avg       0.46      0.45      0.42      1967\n",
      "weighted avg       0.46      0.48      0.45      1967\n",
      "\n",
      "Train Accuracy: 0.5210425937698665\tTest accuracy: 0.4809354346720895\n",
      "[[580 168  44]\n",
      " [249 283  70]\n",
      " [258 232  83]]\n"
     ]
    }
   ],
   "source": [
    "gbcb = GradientBoostingClassifier(n_estimators= 30, max_depth = 3, learning_rate = .1, \n",
    "                                  n_iter_no_change=5, random_state = 0)\n",
    "gbcb.fit(X_train, y_train)\n",
    "y_pred_train = gbcb.predict(X_train)\n",
    "print(\"Train F1: {}\".format(f1_score(y_train, y_pred_train, average=None)))\n",
    "print(\"Test Classification Report:\")\n",
    "y_pred_test = gbcb.predict(X_test)\n",
    "print(classification_report(y_test, y_pred_test))\n",
    "print(\"Train Accuracy: {}\\tTest accuracy: {}\".format(accuracy_score(y_train, y_pred_train),\n",
    "                                                     accuracy_score(y_test, y_pred_test)))\n",
    "print(confusion_matrix(y_test, y_pred_test))"
   ]
  },
  {
   "cell_type": "code",
   "execution_count": 313,
   "metadata": {},
   "outputs": [
    {
     "data": {
      "image/png": "[encoded data removed]",
      "text/plain": [
       "<Figure size 720x504 with 2 Axes>"
      ]
     },
     "metadata": {},
     "output_type": "display_data"
    }
   ],
   "source": [
    "gbcb.fit(X_train, y_train)\n",
    "y_pred_train = gbcb.predict(X_train)\n",
    "y_pred_test = gbcb.predict(X_test)\n",
    "gbcm = confusion_matrix(y_test, y_pred_test)\n",
    "gbgraph = print_confusion_matrix(gbcm,['No Change', 'Price Increase', 'Price Decrease'])"
   ]
  },
  {
   "cell_type": "markdown",
   "metadata": {},
   "source": [
    "### Ridge Classifier:"
   ]
  },
  {
   "cell_type": "code",
   "execution_count": 262,
   "metadata": {},
   "outputs": [
    {
     "name": "stdout",
     "output_type": "stream",
     "text": [
      "Train F1: [0.6198044  0.41473281 0.16754294]\n",
      "Test Classification Report:\n",
      "              precision    recall  f1-score   support\n",
      "\n",
      "         0.0       0.50      0.80      0.62       792\n",
      "         1.0       0.43      0.38      0.40       602\n",
      "         2.0       0.33      0.10      0.15       573\n",
      "\n",
      "   micro avg       0.47      0.47      0.47      1967\n",
      "   macro avg       0.42      0.43      0.39      1967\n",
      "weighted avg       0.43      0.47      0.41      1967\n",
      "\n",
      "Train Accuracy: 0.4765416401780038\tTest accuracy: 0.46619217081850534\n",
      "[[634 103  55]\n",
      " [318 227  57]\n",
      " [317 200  56]]\n"
     ]
    }
   ],
   "source": [
    "from sklearn.linear_model import RidgeClassifierCV\n",
    "rc = RidgeClassifierCV(alphas=[.1,1,5,10])\n",
    "rc.fit(X_train, y_train)\n",
    "y_pred_train = rc.predict(X_train)\n",
    "print(\"Train F1: {}\".format(f1_score(y_train, y_pred_train, average=None)))\n",
    "print(\"Test Classification Report:\")\n",
    "y_pred_test = rc.predict(X_test)\n",
    "print(classification_report(y_test, y_pred_test))\n",
    "print(\"Train Accuracy: {}\\tTest accuracy: {}\".format(accuracy_score(y_train, y_pred_train),\n",
    "                                                     accuracy_score(y_test, y_pred_test)))\n",
    "print(confusion_matrix(y_test, y_pred_test))"
   ]
  },
  {
   "cell_type": "code",
   "execution_count": 314,
   "metadata": {},
   "outputs": [
    {
     "data": {
      "image/png": "[encoded data removed]",
      "text/plain": [
       "<Figure size 720x504 with 2 Axes>"
      ]
     },
     "metadata": {},
     "output_type": "display_data"
    }
   ],
   "source": [
    "rc.fit(X_train, y_train)\n",
    "y_pred_train = rc.predict(X_train)\n",
    "y_pred_test = rc.predict(X_test)\n",
    "rccm = confusion_matrix(y_test, y_pred_test)\n",
    "rcgraph = print_confusion_matrix(rccm,['No Change', 'Price Increase', 'Price Decrease'])"
   ]
  },
  {
   "cell_type": "code",
   "execution_count": 277,
   "metadata": {
    "collapsed": true
   },
   "outputs": [],
   "source": [
    "noprice = data2_nopen_prev.drop(columns=['CLOSE1','CLOSE2','CLOSE3'])\n",
    "noprice = pd.DataFrame(noprice, dtype='float')"
   ]
  },
  {
   "cell_type": "code",
   "execution_count": 283,
   "metadata": {
    "collapsed": true
   },
   "outputs": [],
   "source": [
    "scaler.fit(noprice)\n",
    "scaled_noprice = scaler.transform(noprice)\n",
    "\n",
    "X_train, X_test, y_train, y_test = train_test_split(scaled_noprice, target_class2, test_size=.2, random_state = 42)"
   ]
  },
  {
   "cell_type": "code",
   "execution_count": 279,
   "metadata": {},
   "outputs": [
    {
     "name": "stdout",
     "output_type": "stream",
     "text": [
      "Best Params: {'class_weight': 'balanced', 'max_depth': 11, 'max_features': 'sqrt', 'min_samples_leaf': 7, 'n_estimators': 50, 'random_state': 9}\n",
      "Train F1: [0.71857073 0.74096386 0.73177027]\n",
      "Test Classification Report:\n",
      "              precision    recall  f1-score   support\n",
      "\n",
      "         0.0       0.50      0.47      0.48       792\n",
      "         1.0       0.35      0.39      0.37       602\n",
      "         2.0       0.32      0.32      0.32       573\n",
      "\n",
      "   micro avg       0.40      0.40      0.40      1967\n",
      "   macro avg       0.39      0.39      0.39      1967\n",
      "weighted avg       0.40      0.40      0.40      1967\n",
      "\n",
      "Train Accuracy: 0.7295613477431659\tTest accuracy: 0.40010167768174887\n",
      "[[370 225 197]\n",
      " [184 235 183]\n",
      " [183 208 182]]\n"
     ]
    }
   ],
   "source": [
    "# No closing data\n",
    "gridsearch = GridSearchCV(rfc, {\"n_estimators\": [20, 50, 100, 200, 500], \"max_depth\": [1, 3, 5, 7, 9, 11], \n",
    "                                 \"min_samples_leaf\": [3 , 5 , 7 , 9], \"max_features\": [None, 'sqrt', 'log2']\n",
    "                                , \"class_weight\": [\"balanced\", \"balanced_subsample\"], 'random_state': [9]}, \n",
    "                          scoring='f1_micro', cv=3)\n",
    "gridsearch.fit(X_train, y_train)\n",
    "print(\"Best Params: {}\".format(gridsearch.best_params_))\n",
    "y_pred_train = gridsearch.predict(X_train)\n",
    "print(\"Train F1: {}\".format(f1_score(y_train, y_pred_train, average=None)))\n",
    "print(\"Test Classification Report:\")\n",
    "y_pred_test = gridsearch.predict(X_test)\n",
    "print(classification_report(y_test, y_pred_test))\n",
    "print(\"Train Accuracy: {}\\tTest accuracy: {}\".format(accuracy_score(y_train, y_pred_train),\n",
    "                                                     accuracy_score(y_test, y_pred_test)))\n",
    "print(confusion_matrix(y_test, y_pred_test))"
   ]
  },
  {
   "cell_type": "code",
   "execution_count": 282,
   "metadata": {},
   "outputs": [
    {
     "data": {
      "image/png": "[encoded data removed]",
      "text/plain": [
       "<Figure size 432x288 with 1 Axes>"
      ]
     },
     "metadata": {},
     "output_type": "display_data"
    }
   ],
   "source": [
    "rfclos = RandomForestClassifier(n_estimators=50, random_state=9,class_weight='balanced', max_depth=11, \n",
    "                                max_features='sqrt', min_samples_leaf=7)\n",
    "rfclos.fit(X_train, y_train)\n",
    "best_featcl, best_pltcl = features_full(noprice,rfclos.feature_importances_, .01)"
   ]
  },
  {
   "cell_type": "code",
   "execution_count": 284,
   "metadata": {},
   "outputs": [
    {
     "name": "stdout",
     "output_type": "stream",
     "text": [
      "52\n"
     ]
    }
   ],
   "source": [
    "gbcb = GradientBoostingClassifier(n_estimators= 5000, max_depth = 3, learning_rate = .1, \n",
    "                                  n_iter_no_change=5, random_state = 0)\n",
    "gbcb.fit(X_train, y_train)\n",
    "print(gbcb.n_estimators_)"
   ]
  },
  {
   "cell_type": "code",
   "execution_count": 285,
   "metadata": {},
   "outputs": [
    {
     "name": "stdout",
     "output_type": "stream",
     "text": [
      "Train F1: [0.62338268 0.40604436 0.31692913]\n",
      "Test Classification Report:\n",
      "              precision    recall  f1-score   support\n",
      "\n",
      "         0.0       0.46      0.77      0.58       792\n",
      "         1.0       0.34      0.23      0.28       602\n",
      "         2.0       0.34      0.13      0.19       573\n",
      "\n",
      "   micro avg       0.42      0.42      0.42      1967\n",
      "   macro avg       0.38      0.38      0.35      1967\n",
      "weighted avg       0.39      0.42      0.37      1967\n",
      "\n",
      "Train Accuracy: 0.5073108709472346\tTest accuracy: 0.42196237925775293\n",
      "[[612 115  65]\n",
      " [376 141  85]\n",
      " [339 157  77]]\n"
     ]
    }
   ],
   "source": [
    "gbcb = GradientBoostingClassifier(n_estimators= 52, max_depth = 3, learning_rate = .1, \n",
    "                                  random_state = 0)\n",
    "gbcb.fit(X_train, y_train)\n",
    "y_pred_train = gbcb.predict(X_train)\n",
    "print(\"Train F1: {}\".format(f1_score(y_train, y_pred_train, average=None)))\n",
    "print(\"Test Classification Report:\")\n",
    "y_pred_test = gbcb.predict(X_test)\n",
    "print(classification_report(y_test, y_pred_test))\n",
    "print(\"Train Accuracy: {}\\tTest accuracy: {}\".format(accuracy_score(y_train, y_pred_train),\n",
    "                                                     accuracy_score(y_test, y_pred_test)))\n",
    "print(confusion_matrix(y_test, y_pred_test))"
   ]
  },
  {
   "cell_type": "code",
   "execution_count": 286,
   "metadata": {},
   "outputs": [
    {
     "name": "stdout",
     "output_type": "stream",
     "text": [
      "Train F1: [0.58591065 0.37413495 0.18796484]\n",
      "Test Classification Report:\n",
      "              precision    recall  f1-score   support\n",
      "\n",
      "         0.0       0.46      0.71      0.56       792\n",
      "         1.0       0.36      0.33      0.34       602\n",
      "         2.0       0.37      0.12      0.19       573\n",
      "\n",
      "   micro avg       0.42      0.42      0.42      1967\n",
      "   macro avg       0.40      0.39      0.36      1967\n",
      "weighted avg       0.40      0.42      0.38      1967\n",
      "\n",
      "Train Accuracy: 0.4488239033693579\tTest accuracy: 0.42399593289273\n",
      "[[566 169  57]\n",
      " [339 197  66]\n",
      " [322 180  71]]\n"
     ]
    }
   ],
   "source": [
    "rc = RidgeClassifierCV(alphas=[.1,1,5,10])\n",
    "rc.fit(X_train, y_train)\n",
    "y_pred_train = rc.predict(X_train)\n",
    "print(\"Train F1: {}\".format(f1_score(y_train, y_pred_train, average=None)))\n",
    "print(\"Test Classification Report:\")\n",
    "y_pred_test = rc.predict(X_test)\n",
    "print(classification_report(y_test, y_pred_test))\n",
    "print(\"Train Accuracy: {}\\tTest accuracy: {}\".format(accuracy_score(y_train, y_pred_train),\n",
    "                                                     accuracy_score(y_test, y_pred_test)))\n",
    "print(confusion_matrix(y_test, y_pred_test))"
   ]
  },
  {
   "cell_type": "code",
   "execution_count": 287,
   "metadata": {},
   "outputs": [
    {
     "name": "stdout",
     "output_type": "stream",
     "text": [
      "Best Params: {'n_neighbors': 11, 'p': 2, 'weights': 'uniform'}\n",
      "Train F1: [0.62231535 0.4666955  0.36080692]\n",
      "Test Classification Report:\n",
      "              precision    recall  f1-score   support\n",
      "\n",
      "         0.0       0.45      0.65      0.53       792\n",
      "         1.0       0.36      0.33      0.34       602\n",
      "         2.0       0.35      0.18      0.24       573\n",
      "\n",
      "   micro avg       0.41      0.41      0.41      1967\n",
      "   macro avg       0.39      0.38      0.37      1967\n",
      "weighted avg       0.40      0.41      0.39      1967\n",
      "\n",
      "Train Accuracy: 0.5188811188811189\tTest accuracy: 0.4123029994916116\n",
      "[[511 189  92]\n",
      " [307 198  97]\n",
      " [310 161 102]]\n"
     ]
    }
   ],
   "source": [
    "gridsearch = GridSearchCV(knn, {\"n_neighbors\": [5, 7, 9, 11], \"weights\": ['uniform', 'distance'], \n",
    "                                'p': [1, 2, 3]}, scoring='f1_micro', cv=3)\n",
    "gridsearch.fit(X_train, y_train)\n",
    "print(\"Best Params: {}\".format(gridsearch.best_params_))\n",
    "y_pred_train = gridsearch.predict(X_train)\n",
    "print(\"Train F1: {}\".format(f1_score(y_train, y_pred_train, average=None)))\n",
    "print(\"Test Classification Report:\")\n",
    "y_pred_test = gridsearch.predict(X_test)\n",
    "print(classification_report(y_test, y_pred_test))\n",
    "print(\"Train Accuracy: {}\\tTest accuracy: {}\".format(accuracy_score(y_train, y_pred_train),\n",
    "                                                     accuracy_score(y_test, y_pred_test)))\n",
    "print(confusion_matrix(y_test, y_pred_test))"
   ]
  },
  {
   "cell_type": "code",
   "execution_count": null,
   "metadata": {
    "collapsed": true
   },
   "outputs": [],
   "source": []
  }
 ],
 "metadata": {
  "kernelspec": {
   "display_name": "Python 3",
   "language": "python",
   "name": "python3"
  },
  "language_info": {
   "codemirror_mode": {
    "name": "ipython",
    "version": 3
   },
   "file_extension": ".py",
   "mimetype": "text/x-python",
   "name": "python",
   "nbconvert_exporter": "python",
   "pygments_lexer": "ipython3",
   "version": "3.6.1"
  }
 },
 "nbformat": 4,
 "nbformat_minor": 2
}
